{
  "cells": [
    {
      "cell_type": "markdown",
      "metadata": {
        "id": "view-in-github",
        "colab_type": "text"
      },
      "source": [
        "<a href=\"https://colab.research.google.com/github/sensationalspace/colab/blob/main/Unstructured_Quick_Tour.ipynb\" target=\"_parent\"><img src=\"https://colab.research.google.com/assets/colab-badge.svg\" alt=\"Open In Colab\"/></a>"
      ]
    },
    {
      "cell_type": "markdown",
      "metadata": {
        "id": "BP8bdWSbBRqw"
      },
      "source": [
        "## Quick Tour\n",
        "\n",
        "The following examples show how to get started with the `unstructured` library. See\n",
        "our [documentation page](https://unstructured-io.github.io/unstructured) for a full description\n",
        "of the features in the library.\n",
        "\n",
        "Another way to try out the `unstructured` library is by running a docker container -- compatible with either Intel/AMD or Apple Silicon! Check out the [instructions for using the docker image](https://github.com/Unstructured-IO/unstructured#dizzy-instructions-for-using-the-docker-image)."
      ]
    },
    {
      "cell_type": "code",
      "execution_count": null,
      "metadata": {
        "id": "jZp37lfueaeZ"
      },
      "outputs": [],
      "source": [
        "# Install Requirements\n",
        "!apt-get -qq install poppler-utils tesseract-ocr\n",
        "# Upgrade Pillow to latest version\n",
        "%pip install -q --user --upgrade pillow\n",
        "# Install Python Packages\n",
        "%pip install -q unstructured[\"all-docs\"]==0.10.18\n",
        "# NOTE: you may also upgrade to the latest version with the command below,\n",
        "#       though a more recent version of unstructured will not have been tested with this notebook\n",
        "# %pip install -q --upgrade unstructured"
      ]
    },
    {
      "cell_type": "markdown",
      "metadata": {
        "id": "Aq7KaO6NtYXY"
      },
      "source": [
        "See our [example docs page](https://github.com/Unstructured-IO/unstructured/tree/main/example-docs) to find example docs used in this tutorial. You can also upload your own files by clicking on “Choose Files” on the left panel then select and upload the file to Colab."
      ]
    },
    {
      "cell_type": "code",
      "execution_count": null,
      "metadata": {
        "id": "F2JBqRZgtq2Z"
      },
      "outputs": [],
      "source": [
        "!mkdir -p example-docs\n",
        "# Install example-10k.html and layout-parser-paper.pdf\n",
        "!wget  https://raw.githubusercontent.com/Unstructured-IO/unstructured/main/example-docs/example-10k.html -P example-docs\n",
        "!wget  https://raw.githubusercontent.com/Unstructured-IO/unstructured/main/example-docs/layout-parser-paper-fast.pdf -P example-docs"
      ]
    },
    {
      "cell_type": "code",
      "execution_count": null,
      "metadata": {
        "id": "huxQF-koB_8t"
      },
      "outputs": [],
      "source": [
        "# Install NLTK Data\n",
        "import nltk\n",
        "nltk.download('punkt')\n",
        "nltk.download('averaged_perceptron_tagger')"
      ]
    },
    {
      "cell_type": "markdown",
      "metadata": {
        "id": "zNtvbgOeCHg0"
      },
      "source": [
        "### HTML Parsing\n",
        "\n",
        "You can parse an HTML document using the following workflow:"
      ]
    },
    {
      "cell_type": "code",
      "execution_count": null,
      "metadata": {
        "id": "4JpZp1Cy8kFC"
      },
      "outputs": [],
      "source": [
        "from unstructured.documents.html import HTMLDocument\n",
        "\n",
        "doc = HTMLDocument.from_file(\"example-docs/example-10k.html\")\n",
        "\n",
        "# This is how you would use a document from your google Drive\n",
        "\"\"\"\n",
        "from google.colab import drive\n",
        "drive.mount('/content/drive/')\n",
        "doc = HTMLDocument.from_file(\"drive/MyDrive/your-filename.html\")\n",
        "\"\"\""
      ]
    },
    {
      "cell_type": "markdown",
      "metadata": {
        "id": "ZhUj4fniKBKN"
      },
      "source": [
        "The third page of output looks like the following:"
      ]
    },
    {
      "cell_type": "code",
      "execution_count": null,
      "metadata": {
        "id": "a3wq02uiKGoa"
      },
      "outputs": [],
      "source": [
        "print(doc.pages[2])"
      ]
    },
    {
      "cell_type": "code",
      "execution_count": null,
      "metadata": {
        "id": "X2jIJGn6GM-d"
      },
      "outputs": [],
      "source": [
        "doc.pages[2].elements"
      ]
    },
    {
      "cell_type": "markdown",
      "metadata": {
        "id": "ab9bqf94GO9Z"
      },
      "source": [
        "You can see that the parser successfully differentiated between titles and narrative text."
      ]
    },
    {
      "cell_type": "markdown",
      "metadata": {
        "id": "vfurRdAnGagZ"
      },
      "source": [
        "### PDF Parsing\n",
        "\n",
        "There are two strategies availalbe for parsing PDF documents: \"fast\" and \"hi_res.\" The default strategy is \"hi_res\"\n",
        "\n",
        "If your main objective is extracting text from a \"clean\" PDF, i.e. one that does not include text in images that require OCR), go with the \"fast\" option.\n",
        "\n",
        "Otherwise, if your PDF may have images with text to extract, or, you prefer to have better structured Elements that better characterize the text items within the document, go with with the \"hi_res\" option.\n",
        "\n",
        "Naturally, \"fast\" is faster than \"hi_res\" -- by an order of magnitude!"
      ]
    },
    {
      "cell_type": "code",
      "execution_count": null,
      "metadata": {
        "id": "E_WN7p3JGcLJ"
      },
      "outputs": [],
      "source": [
        "from unstructured.partition.pdf import partition_pdf\n",
        "\n",
        "elements = partition_pdf(\"example-docs/layout-parser-paper-fast.pdf\")\n",
        "\n",
        "elements_fast = partition_pdf(\"example-docs/layout-parser-paper-fast.pdf\", strategy=\"fast\")"
      ]
    },
    {
      "cell_type": "markdown",
      "metadata": {
        "id": "Z0CELStYKNUD"
      },
      "source": [
        "Let's examine the types of elements returned for both the \"hi_res\" and \"fast\" strategies:"
      ]
    },
    {
      "cell_type": "code",
      "execution_count": null,
      "metadata": {
        "id": "peiuDBlv2imF"
      },
      "outputs": [],
      "source": [
        "from collections import Counter\n",
        "\n",
        "display(Counter(type(element) for element in elements))\n",
        "print(\"\")\n",
        "# The composition of elements can be different for elements derived with the \"fast\" strategy\n",
        "display(Counter(type(element) for element in elements_fast))"
      ]
    },
    {
      "cell_type": "markdown",
      "metadata": {
        "id": "5Iq8hR-x9Ti1"
      },
      "source": [
        "Let's display the type and text of some of the elements in the document:"
      ]
    },
    {
      "cell_type": "code",
      "execution_count": null,
      "metadata": {
        "id": "prVGy4uc7YpB"
      },
      "outputs": [],
      "source": [
        "display(*[(type(element), element.text) for element in elements[10:13]])"
      ]
    },
    {
      "cell_type": "markdown",
      "metadata": {
        "id": "IlBJ9SB9MIEv"
      },
      "source": [
        "You can see that the parser also successfully differentiated between titles and narrative text from a PDF file. However, be aware that element classification is improving as the library evolves, tends to be more accurate with the \"hi_res\" strategy, and may not always correct.\n",
        "\n",
        "Now we can join the elements and print the extracted texts from the PDF"
      ]
    },
    {
      "cell_type": "code",
      "execution_count": null,
      "metadata": {
        "id": "sB8UAQPQHDT5"
      },
      "outputs": [],
      "source": [
        "print(\"\\n\\n\".join([str(el) for el in elements]))"
      ]
    },
    {
      "cell_type": "code",
      "source": [],
      "metadata": {
        "id": "J7gIbLhxmXbB"
      },
      "execution_count": null,
      "outputs": []
    }
  ],
  "metadata": {
    "colab": {
      "provenance": [],
      "include_colab_link": true
    },
    "kernelspec": {
      "display_name": "Python 3",
      "name": "python3"
    },
    "language_info": {
      "name": "python"
    }
  },
  "nbformat": 4,
  "nbformat_minor": 0
}