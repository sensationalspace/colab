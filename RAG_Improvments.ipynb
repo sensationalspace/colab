{
  "nbformat": 4,
  "nbformat_minor": 0,
  "metadata": {
    "colab": {
      "provenance": [],
      "include_colab_link": true
    },
    "kernelspec": {
      "name": "python3",
      "display_name": "Python 3"
    },
    "language_info": {
      "name": "python"
    }
  },
  "cells": [
    {
      "cell_type": "markdown",
      "metadata": {
        "id": "view-in-github",
        "colab_type": "text"
      },
      "source": [
        "<a href=\"https://colab.research.google.com/github/sensationalspace/colab/blob/main/RAG_Improvments.ipynb\" target=\"_parent\"><img src=\"https://colab.research.google.com/assets/colab-badge.svg\" alt=\"Open In Colab\"/></a>"
      ]
    },
    {
      "cell_type": "code",
      "source": [
        "!pip install llama_index"
      ],
      "metadata": {
        "colab": {
          "base_uri": "https://localhost:8080/"
        },
        "id": "LvdTxGYbiDHS",
        "outputId": "7e383bca-b6cd-4ca9-9a4f-af6f1563e8c9"
      },
      "execution_count": null,
      "outputs": [
        {
          "output_type": "stream",
          "name": "stdout",
          "text": [
            "Collecting llama_index\n",
            "  Downloading llama_index-0.9.30-py3-none-any.whl (15.8 MB)\n",
            "\u001b[2K     \u001b[90m━━━━━━━━━━━━━━━━━━━━━━━━━━━━━━━━━━━━━━━━\u001b[0m \u001b[32m15.8/15.8 MB\u001b[0m \u001b[31m22.8 MB/s\u001b[0m eta \u001b[36m0:00:00\u001b[0m\n",
            "\u001b[?25hRequirement already satisfied: SQLAlchemy[asyncio]>=1.4.49 in /usr/local/lib/python3.10/dist-packages (from llama_index) (2.0.24)\n",
            "Requirement already satisfied: aiohttp<4.0.0,>=3.8.6 in /usr/local/lib/python3.10/dist-packages (from llama_index) (3.9.1)\n",
            "Collecting beautifulsoup4<5.0.0,>=4.12.2 (from llama_index)\n",
            "  Downloading beautifulsoup4-4.12.2-py3-none-any.whl (142 kB)\n",
            "\u001b[2K     \u001b[90m━━━━━━━━━━━━━━━━━━━━━━━━━━━━━━━━━━━━━━━━\u001b[0m \u001b[32m143.0/143.0 kB\u001b[0m \u001b[31m4.6 MB/s\u001b[0m eta \u001b[36m0:00:00\u001b[0m\n",
            "\u001b[?25hCollecting dataclasses-json (from llama_index)\n",
            "  Downloading dataclasses_json-0.6.3-py3-none-any.whl (28 kB)\n",
            "Collecting deprecated>=1.2.9.3 (from llama_index)\n",
            "  Downloading Deprecated-1.2.14-py2.py3-none-any.whl (9.6 kB)\n",
            "Requirement already satisfied: fsspec>=2023.5.0 in /usr/local/lib/python3.10/dist-packages (from llama_index) (2023.6.0)\n",
            "Collecting httpx (from llama_index)\n",
            "  Downloading httpx-0.26.0-py3-none-any.whl (75 kB)\n",
            "\u001b[2K     \u001b[90m━━━━━━━━━━━━━━━━━━━━━━━━━━━━━━━━━━━━━━━━\u001b[0m \u001b[32m75.9/75.9 kB\u001b[0m \u001b[31m3.3 MB/s\u001b[0m eta \u001b[36m0:00:00\u001b[0m\n",
            "\u001b[?25hRequirement already satisfied: nest-asyncio<2.0.0,>=1.5.8 in /usr/local/lib/python3.10/dist-packages (from llama_index) (1.5.8)\n",
            "Requirement already satisfied: networkx>=3.0 in /usr/local/lib/python3.10/dist-packages (from llama_index) (3.2.1)\n",
            "Requirement already satisfied: nltk<4.0.0,>=3.8.1 in /usr/local/lib/python3.10/dist-packages (from llama_index) (3.8.1)\n",
            "Requirement already satisfied: numpy in /usr/local/lib/python3.10/dist-packages (from llama_index) (1.23.5)\n",
            "Collecting openai>=1.1.0 (from llama_index)\n",
            "  Downloading openai-1.7.2-py3-none-any.whl (212 kB)\n",
            "\u001b[2K     \u001b[90m━━━━━━━━━━━━━━━━━━━━━━━━━━━━━━━━━━━━━━━━\u001b[0m \u001b[32m212.1/212.1 kB\u001b[0m \u001b[31m7.7 MB/s\u001b[0m eta \u001b[36m0:00:00\u001b[0m\n",
            "\u001b[?25hRequirement already satisfied: pandas in /usr/local/lib/python3.10/dist-packages (from llama_index) (1.5.3)\n",
            "Requirement already satisfied: requests>=2.31.0 in /usr/local/lib/python3.10/dist-packages (from llama_index) (2.31.0)\n",
            "Requirement already satisfied: tenacity<9.0.0,>=8.2.0 in /usr/local/lib/python3.10/dist-packages (from llama_index) (8.2.3)\n",
            "Collecting tiktoken>=0.3.3 (from llama_index)\n",
            "  Downloading tiktoken-0.5.2-cp310-cp310-manylinux_2_17_x86_64.manylinux2014_x86_64.whl (2.0 MB)\n",
            "\u001b[2K     \u001b[90m━━━━━━━━━━━━━━━━━━━━━━━━━━━━━━━━━━━━━━━━\u001b[0m \u001b[32m2.0/2.0 MB\u001b[0m \u001b[31m13.0 MB/s\u001b[0m eta \u001b[36m0:00:00\u001b[0m\n",
            "\u001b[?25hRequirement already satisfied: typing-extensions>=4.5.0 in /usr/local/lib/python3.10/dist-packages (from llama_index) (4.5.0)\n",
            "Collecting typing-inspect>=0.8.0 (from llama_index)\n",
            "  Downloading typing_inspect-0.9.0-py3-none-any.whl (8.8 kB)\n",
            "Requirement already satisfied: attrs>=17.3.0 in /usr/local/lib/python3.10/dist-packages (from aiohttp<4.0.0,>=3.8.6->llama_index) (23.2.0)\n",
            "Requirement already satisfied: multidict<7.0,>=4.5 in /usr/local/lib/python3.10/dist-packages (from aiohttp<4.0.0,>=3.8.6->llama_index) (6.0.4)\n",
            "Requirement already satisfied: yarl<2.0,>=1.0 in /usr/local/lib/python3.10/dist-packages (from aiohttp<4.0.0,>=3.8.6->llama_index) (1.9.4)\n",
            "Requirement already satisfied: frozenlist>=1.1.1 in /usr/local/lib/python3.10/dist-packages (from aiohttp<4.0.0,>=3.8.6->llama_index) (1.4.1)\n",
            "Requirement already satisfied: aiosignal>=1.1.2 in /usr/local/lib/python3.10/dist-packages (from aiohttp<4.0.0,>=3.8.6->llama_index) (1.3.1)\n",
            "Requirement already satisfied: async-timeout<5.0,>=4.0 in /usr/local/lib/python3.10/dist-packages (from aiohttp<4.0.0,>=3.8.6->llama_index) (4.0.3)\n",
            "Requirement already satisfied: soupsieve>1.2 in /usr/local/lib/python3.10/dist-packages (from beautifulsoup4<5.0.0,>=4.12.2->llama_index) (2.5)\n",
            "Requirement already satisfied: wrapt<2,>=1.10 in /usr/local/lib/python3.10/dist-packages (from deprecated>=1.2.9.3->llama_index) (1.14.1)\n",
            "Requirement already satisfied: click in /usr/local/lib/python3.10/dist-packages (from nltk<4.0.0,>=3.8.1->llama_index) (8.1.7)\n",
            "Requirement already satisfied: joblib in /usr/local/lib/python3.10/dist-packages (from nltk<4.0.0,>=3.8.1->llama_index) (1.3.2)\n",
            "Requirement already satisfied: regex>=2021.8.3 in /usr/local/lib/python3.10/dist-packages (from nltk<4.0.0,>=3.8.1->llama_index) (2023.6.3)\n",
            "Requirement already satisfied: tqdm in /usr/local/lib/python3.10/dist-packages (from nltk<4.0.0,>=3.8.1->llama_index) (4.66.1)\n",
            "Requirement already satisfied: anyio<5,>=3.5.0 in /usr/local/lib/python3.10/dist-packages (from openai>=1.1.0->llama_index) (3.7.1)\n",
            "Requirement already satisfied: distro<2,>=1.7.0 in /usr/lib/python3/dist-packages (from openai>=1.1.0->llama_index) (1.7.0)\n",
            "Requirement already satisfied: pydantic<3,>=1.9.0 in /usr/local/lib/python3.10/dist-packages (from openai>=1.1.0->llama_index) (1.10.13)\n",
            "Requirement already satisfied: sniffio in /usr/local/lib/python3.10/dist-packages (from openai>=1.1.0->llama_index) (1.3.0)\n",
            "Collecting typing-extensions>=4.5.0 (from llama_index)\n",
            "  Downloading typing_extensions-4.9.0-py3-none-any.whl (32 kB)\n",
            "Requirement already satisfied: certifi in /usr/local/lib/python3.10/dist-packages (from httpx->llama_index) (2023.11.17)\n",
            "Collecting httpcore==1.* (from httpx->llama_index)\n",
            "  Downloading httpcore-1.0.2-py3-none-any.whl (76 kB)\n",
            "\u001b[2K     \u001b[90m━━━━━━━━━━━━━━━━━━━━━━━━━━━━━━━━━━━━━━━━\u001b[0m \u001b[32m76.9/76.9 kB\u001b[0m \u001b[31m5.3 MB/s\u001b[0m eta \u001b[36m0:00:00\u001b[0m\n",
            "\u001b[?25hRequirement already satisfied: idna in /usr/local/lib/python3.10/dist-packages (from httpx->llama_index) (3.6)\n",
            "Collecting h11<0.15,>=0.13 (from httpcore==1.*->httpx->llama_index)\n",
            "  Downloading h11-0.14.0-py3-none-any.whl (58 kB)\n",
            "\u001b[2K     \u001b[90m━━━━━━━━━━━━━━━━━━━━━━━━━━━━━━━━━━━━━━━━\u001b[0m \u001b[32m58.3/58.3 kB\u001b[0m \u001b[31m2.7 MB/s\u001b[0m eta \u001b[36m0:00:00\u001b[0m\n",
            "\u001b[?25hRequirement already satisfied: charset-normalizer<4,>=2 in /usr/local/lib/python3.10/dist-packages (from requests>=2.31.0->llama_index) (3.3.2)\n",
            "Requirement already satisfied: urllib3<3,>=1.21.1 in /usr/local/lib/python3.10/dist-packages (from requests>=2.31.0->llama_index) (2.0.7)\n",
            "Requirement already satisfied: greenlet!=0.4.17 in /usr/local/lib/python3.10/dist-packages (from SQLAlchemy[asyncio]>=1.4.49->llama_index) (3.0.3)\n",
            "Collecting mypy-extensions>=0.3.0 (from typing-inspect>=0.8.0->llama_index)\n",
            "  Downloading mypy_extensions-1.0.0-py3-none-any.whl (4.7 kB)\n",
            "Collecting marshmallow<4.0.0,>=3.18.0 (from dataclasses-json->llama_index)\n",
            "  Downloading marshmallow-3.20.2-py3-none-any.whl (49 kB)\n",
            "\u001b[2K     \u001b[90m━━━━━━━━━━━━━━━━━━━━━━━━━━━━━━━━━━━━━━━━\u001b[0m \u001b[32m49.4/49.4 kB\u001b[0m \u001b[31m3.8 MB/s\u001b[0m eta \u001b[36m0:00:00\u001b[0m\n",
            "\u001b[?25hRequirement already satisfied: python-dateutil>=2.8.1 in /usr/local/lib/python3.10/dist-packages (from pandas->llama_index) (2.8.2)\n",
            "Requirement already satisfied: pytz>=2020.1 in /usr/local/lib/python3.10/dist-packages (from pandas->llama_index) (2023.3.post1)\n",
            "Requirement already satisfied: exceptiongroup in /usr/local/lib/python3.10/dist-packages (from anyio<5,>=3.5.0->openai>=1.1.0->llama_index) (1.2.0)\n",
            "Requirement already satisfied: packaging>=17.0 in /usr/local/lib/python3.10/dist-packages (from marshmallow<4.0.0,>=3.18.0->dataclasses-json->llama_index) (23.2)\n",
            "Requirement already satisfied: six>=1.5 in /usr/local/lib/python3.10/dist-packages (from python-dateutil>=2.8.1->pandas->llama_index) (1.16.0)\n",
            "Installing collected packages: typing-extensions, mypy-extensions, marshmallow, h11, deprecated, beautifulsoup4, typing-inspect, tiktoken, httpcore, httpx, dataclasses-json, openai, llama_index\n",
            "  Attempting uninstall: typing-extensions\n",
            "    Found existing installation: typing_extensions 4.5.0\n",
            "    Uninstalling typing_extensions-4.5.0:\n",
            "      Successfully uninstalled typing_extensions-4.5.0\n",
            "  Attempting uninstall: beautifulsoup4\n",
            "    Found existing installation: beautifulsoup4 4.11.2\n",
            "    Uninstalling beautifulsoup4-4.11.2:\n",
            "      Successfully uninstalled beautifulsoup4-4.11.2\n",
            "\u001b[31mERROR: pip's dependency resolver does not currently take into account all the packages that are installed. This behaviour is the source of the following dependency conflicts.\n",
            "llmx 0.0.15a0 requires cohere, which is not installed.\n",
            "tensorflow-probability 0.22.0 requires typing-extensions<4.6.0, but you have typing-extensions 4.9.0 which is incompatible.\u001b[0m\u001b[31m\n",
            "\u001b[0mSuccessfully installed beautifulsoup4-4.12.2 dataclasses-json-0.6.3 deprecated-1.2.14 h11-0.14.0 httpcore-1.0.2 httpx-0.26.0 llama_index-0.9.30 marshmallow-3.20.2 mypy-extensions-1.0.0 openai-1.7.2 tiktoken-0.5.2 typing-extensions-4.9.0 typing-inspect-0.9.0\n"
          ]
        }
      ]
    },
    {
      "cell_type": "code",
      "source": [
        "!pip install pypdf\n",
        "!pip install openai"
      ],
      "metadata": {
        "colab": {
          "base_uri": "https://localhost:8080/"
        },
        "id": "hPGoopJbjpA8",
        "outputId": "26e22d38-1b38-4ec7-e4f7-23097b5b2b9d"
      },
      "execution_count": null,
      "outputs": [
        {
          "output_type": "stream",
          "name": "stdout",
          "text": [
            "Requirement already satisfied: pypdf in /usr/local/lib/python3.10/dist-packages (3.17.4)\n",
            "Requirement already satisfied: openai in /usr/local/lib/python3.10/dist-packages (1.7.2)\n",
            "Requirement already satisfied: anyio<5,>=3.5.0 in /usr/local/lib/python3.10/dist-packages (from openai) (3.7.1)\n",
            "Requirement already satisfied: distro<2,>=1.7.0 in /usr/lib/python3/dist-packages (from openai) (1.7.0)\n",
            "Requirement already satisfied: httpx<1,>=0.23.0 in /usr/local/lib/python3.10/dist-packages (from openai) (0.26.0)\n",
            "Requirement already satisfied: pydantic<3,>=1.9.0 in /usr/local/lib/python3.10/dist-packages (from openai) (1.10.13)\n",
            "Requirement already satisfied: sniffio in /usr/local/lib/python3.10/dist-packages (from openai) (1.3.0)\n",
            "Requirement already satisfied: tqdm>4 in /usr/local/lib/python3.10/dist-packages (from openai) (4.66.1)\n",
            "Requirement already satisfied: typing-extensions<5,>=4.7 in /usr/local/lib/python3.10/dist-packages (from openai) (4.9.0)\n",
            "Requirement already satisfied: idna>=2.8 in /usr/local/lib/python3.10/dist-packages (from anyio<5,>=3.5.0->openai) (3.6)\n",
            "Requirement already satisfied: exceptiongroup in /usr/local/lib/python3.10/dist-packages (from anyio<5,>=3.5.0->openai) (1.2.0)\n",
            "Requirement already satisfied: certifi in /usr/local/lib/python3.10/dist-packages (from httpx<1,>=0.23.0->openai) (2023.11.17)\n",
            "Requirement already satisfied: httpcore==1.* in /usr/local/lib/python3.10/dist-packages (from httpx<1,>=0.23.0->openai) (1.0.2)\n",
            "Requirement already satisfied: h11<0.15,>=0.13 in /usr/local/lib/python3.10/dist-packages (from httpcore==1.*->httpx<1,>=0.23.0->openai) (0.14.0)\n"
          ]
        }
      ]
    },
    {
      "cell_type": "code",
      "source": [
        "import openai\n",
        "\n",
        "openai.api_key = \"YOUR_KEY_HERE\""
      ],
      "metadata": {
        "id": "umGOfZA1kQAU"
      },
      "execution_count": null,
      "outputs": []
    },
    {
      "cell_type": "code",
      "execution_count": null,
      "metadata": {
        "id": "pPsIvsr0hmSD"
      },
      "outputs": [],
      "source": [
        "from llama_index import VectorStoreIndex, SimpleDirectoryReader\n",
        "from llama_index.tools import QueryEngineTool, ToolMetadata\n",
        "\n",
        "\n",
        "documents = SimpleDirectoryReader(\"data\").load_data()\n",
        "index = VectorStoreIndex.from_documents(documents)\n",
        "query_engine = index.as_query_engine();"
      ]
    },
    {
      "cell_type": "code",
      "source": [
        "query_engine_tools = [\n",
        "    QueryEngineTool(\n",
        "        query_engine=query_engine,\n",
        "        metadata=ToolMetadata(\n",
        "            name=\"basic_rules\",\n",
        "            description=(\n",
        "                \"the basic game rules and description\"\n",
        "            ),\n",
        "        ),\n",
        "    ),\n",
        "]"
      ],
      "metadata": {
        "id": "VfJC1EK9iymQ"
      },
      "execution_count": null,
      "outputs": []
    },
    {
      "cell_type": "code",
      "source": [
        "from llama_index.agent import ContextRetrieverOpenAIAgent\n",
        "\n",
        "context_agent = ContextRetrieverOpenAIAgent.from_tools_and_retriever(\n",
        "    query_engine_tools,\n",
        "    index.as_retriever(similarity_top_k=3),\n",
        "    verbose=True,\n",
        ")"
      ],
      "metadata": {
        "id": "FaZH1PH9jzzh"
      },
      "execution_count": null,
      "outputs": []
    },
    {
      "cell_type": "code",
      "source": [
        "response = context_agent.chat(\"What is the game about?\")\n",
        "\n",
        "print(response)"
      ],
      "metadata": {
        "colab": {
          "base_uri": "https://localhost:8080/"
        },
        "id": "vN-2epT0iLs9",
        "outputId": "5366a49b-d96b-4cf1-d68c-d4b3581ae12c"
      },
      "execution_count": null,
      "outputs": [
        {
          "output_type": "stream",
          "name": "stdout",
          "text": [
            "\u001b[1;3;33mContext information is below.\n",
            "---------------------\n",
            "4\n",
            "GoalGoal\n",
            "Y our goal is to spend all your money as fast as you can, in \n",
            "accordance with your uncle's last will.\n",
            "The Round The Round\n",
            "A game will have at most 7 rounds. Each round has 5 phases:\n",
            "1. Setup2. Planning3. Errands4. Actions5. End of RoundIf any player manages to get rid of all their money during \n",
            "any round of the game, the round is still played in full.1. Setup 1. Setup\n",
            "First you need to know what opportunities are available.\n",
            "Deal one card onto each space of the card off  ering board. \n",
            "Th e icons indicate which type of card should be dealt where. \n",
            "On some spaces, the same deck will be used every round. On others, the deck changes as the game progresses.\n",
            "1st and 2nd round,\n",
            "property card\n",
            "3rd and subsequent \n",
            "rounds, event card\n",
            "In the fi  rst round, after the setup, each player chooses only \n",
            "two cards from their hand to keep and discards the rest, face--down, to the appropriate discard pile.\n",
            "Example of the setup of the ﬁ rst round in a 3 -player game Example of the setup of the ﬁ  rst round in a 3 -player game\n",
            "If you still have cards and actions that you can use, you may continue to do so to run up a debt.\n",
            "A player has 2 pounds left. On his player board, he has a property and an expense card (Reservation) which allows the player to spend 1 pound. Earlier in the game, this card has been improved with a chef token, so that it can now be activated for 3 pounds. Th  e player can only \n",
            "use the fi  rst option, spending 1 pound. He cannot use the second option as he does not have 3 pounds to spend and he still owns a property.\n",
            "Money is not kept secret in this game. When asked, players must tell each other how much they have left.\n",
            "Ending the Game Ending the Game\n",
            "Your houses are falling down, your racing dog never gets out of the starting gate, your favourite restaurant is overcharging you for every meal, and now you are debt. Congratulations! You win!\n",
            "When a player has no money and no properties, he or she de-\n",
            "clares bankruptcy, which signals the end of the game. Th  at \n",
            "round is played out to the end, but it is the fi  nal round. If \n",
            "no one declares bankruptcy in the fi  rst six rounds, then the \n",
            "seventh round is the fi  nal round.\n",
            "Th e winner is the player who ran up the biggest debt. (See \n",
            "Spending Money, above.) If no one went into debt, the winner is the player who has the least money and property. For this comparison, properties are valued at their current value plus 5 pounds. (Y our helper cards and the modifi  er tokens in the \n",
            "property market do not apply.) Ti  es are broken in favour of the \n",
            "player who chose the plan farther to the left in the fi  nal round.\n",
            "5\n",
            "2. Planning 2. Planning\n",
            "Th is is when you decide how many opportunities you want to consider , \n",
            "how many errands you need to have done for you, and how much of the day you will set aside for enjoying your money.\n",
            "Beginning with the starting player and continuing clockwise, \n",
            "each player makes a plan for the day by placing his or her planning marker on one of the hourglass spaces of the planning board.\n",
            "Y our choice determines:\n",
            " d Th e number of cards you draw.\n",
            "(Y ou take them immediately.)\n",
            " d Th e number of errand boys you will\n",
            "have in the errand phase.\n",
            " d Th e number of actions you will have\n",
            "in the action phase.\n",
            " d Th e order in which you will play\n",
            "for the remainder of the round.\n",
            "As soon as you declare your plan, draw the indicated number \n",
            "of cards. Y ou may draw cards in any combination from the tops of the 4 regular decks. Y ou cannot draw from the deck of special cards (with crowns on the backs). Y ou cannot draw from the cards on the card off  ering board. (Th  ose can only be \n",
            "taken in the errand phase.) Y ou must make all your decisions concerning how many cards to draw from each deck before you know what cards you have drawn; i.e. do not look at any of your new cards until you have drawn all of them.\n",
            "If a regular deck runs out of cards, shuffl   e that deck's discard \n",
            "pile and use it to make a new deck. (Th  e deck of special cards \n",
            "will have enough to last to the end of the game.)\n",
            "Further phases of the round will be played according to the order \n",
            "of the tokens on the plan of the day board. Th  e fi rst player will be \n",
            "that who has their planning marker in the leftmost position, the last player will be the one with the rightmost planning token.\n",
            "Note: Th  e start player marker does not change, even if an-\n",
            "other player is temporarily the 'fi  rst player' for this round.\n",
            "Example of a 5 -player game Example of a 5 -player game\n",
            "Red is the starting player , and the players are sitting in this order: \n",
            "Red, Purple, Blue, Yellow and Green.\n",
            "At the end of the planning phase, the board looks like this:\n",
            "Each player drew his or her cards immediately after choosing a plan.For the remaining phases of this round, players will play in this order: \n",
            "Purple, Y ellow, Blue, Green, Red.Planning in a 2 -player game Planning in a 2 -player game\n",
            "In a 2 -player game, the starting player begins the planning \n",
            "phase by placing one of the non -player planning markers on the board to block one of the plans. Th  e other player places \n",
            "the other non -player planning marker on the board to block another plan and then chooses an available plan and draws his or her cards. Finally, the starting player chooses one of the remaining plans and draws cards. Th  e non -player plan-\n",
            "ning markers have no other eff  ect this round.\n",
            "Example of a 2 -player game Example of a 2 -player game\n",
            "Green is the starting player for this round. She uses the red planning \n",
            "marker to block one of the options:\n",
            "Now it is Y ellow's turn. He uses the blue planning marker to block another option and then chooses a plan, with this result:\n",
            "Y ellow draws 2 cards. Now it is Green's turn to choose a plan:\n",
            "Green draws 7  cards, and the planning phase is done. Y ellow will start the errand phase because his token is farther to the left.\n",
            "---------------------\n",
            "Given the context information and not prior knowledge, either pick the corresponding tool or answer the function: What is the game about?\n",
            "\n",
            "\u001b[0mSTARTING TURN 1\n",
            "---------------\n",
            "\n",
            "=== Calling Function ===\n",
            "Calling function: basic_rules with args: {\n",
            "  \"input\": \"What is the game about?\"\n",
            "}\n",
            "Got output: The game is about spending all your money as fast as you can, in accordance with your uncle's last will.\n",
            "========================\n",
            "\n",
            "STARTING TURN 2\n",
            "---------------\n",
            "\n",
            "The game is about spending all your money as fast as you can, in accordance with your uncle's last will.\n"
          ]
        }
      ]
    },
    {
      "cell_type": "code",
      "source": [
        "response = context_agent.chat(\"Give me in a short answer how to play the first turn?\")\n",
        "\n",
        "print(response)"
      ],
      "metadata": {
        "colab": {
          "base_uri": "https://localhost:8080/"
        },
        "id": "HjJBLXSqkjRc",
        "outputId": "3705e6fd-616d-4860-c1c5-4461501f7dbb"
      },
      "execution_count": null,
      "outputs": [
        {
          "output_type": "stream",
          "name": "stdout",
          "text": [
            "\u001b[1;3;33mContext information is below.\n",
            "---------------------\n",
            "5\n",
            "2. Planning 2. Planning\n",
            "Th is is when you decide how many opportunities you want to consider , \n",
            "how many errands you need to have done for you, and how much of the day you will set aside for enjoying your money.\n",
            "Beginning with the starting player and continuing clockwise, \n",
            "each player makes a plan for the day by placing his or her planning marker on one of the hourglass spaces of the planning board.\n",
            "Y our choice determines:\n",
            " d Th e number of cards you draw.\n",
            "(Y ou take them immediately.)\n",
            " d Th e number of errand boys you will\n",
            "have in the errand phase.\n",
            " d Th e number of actions you will have\n",
            "in the action phase.\n",
            " d Th e order in which you will play\n",
            "for the remainder of the round.\n",
            "As soon as you declare your plan, draw the indicated number \n",
            "of cards. Y ou may draw cards in any combination from the tops of the 4 regular decks. Y ou cannot draw from the deck of special cards (with crowns on the backs). Y ou cannot draw from the cards on the card off  ering board. (Th  ose can only be \n",
            "taken in the errand phase.) Y ou must make all your decisions concerning how many cards to draw from each deck before you know what cards you have drawn; i.e. do not look at any of your new cards until you have drawn all of them.\n",
            "If a regular deck runs out of cards, shuffl   e that deck's discard \n",
            "pile and use it to make a new deck. (Th  e deck of special cards \n",
            "will have enough to last to the end of the game.)\n",
            "Further phases of the round will be played according to the order \n",
            "of the tokens on the plan of the day board. Th  e fi rst player will be \n",
            "that who has their planning marker in the leftmost position, the last player will be the one with the rightmost planning token.\n",
            "Note: Th  e start player marker does not change, even if an-\n",
            "other player is temporarily the 'fi  rst player' for this round.\n",
            "Example of a 5 -player game Example of a 5 -player game\n",
            "Red is the starting player , and the players are sitting in this order: \n",
            "Red, Purple, Blue, Yellow and Green.\n",
            "At the end of the planning phase, the board looks like this:\n",
            "Each player drew his or her cards immediately after choosing a plan.For the remaining phases of this round, players will play in this order: \n",
            "Purple, Y ellow, Blue, Green, Red.Planning in a 2 -player game Planning in a 2 -player game\n",
            "In a 2 -player game, the starting player begins the planning \n",
            "phase by placing one of the non -player planning markers on the board to block one of the plans. Th  e other player places \n",
            "the other non -player planning marker on the board to block another plan and then chooses an available plan and draws his or her cards. Finally, the starting player chooses one of the remaining plans and draws cards. Th  e non -player plan-\n",
            "ning markers have no other eff  ect this round.\n",
            "Example of a 2 -player game Example of a 2 -player game\n",
            "Green is the starting player for this round. She uses the red planning \n",
            "marker to block one of the options:\n",
            "Now it is Y ellow's turn. He uses the blue planning marker to block another option and then chooses a plan, with this result:\n",
            "Y ellow draws 2 cards. Now it is Green's turn to choose a plan:\n",
            "Green draws 7  cards, and the planning phase is done. Y ellow will start the errand phase because his token is farther to the left.\n",
            "4\n",
            "GoalGoal\n",
            "Y our goal is to spend all your money as fast as you can, in \n",
            "accordance with your uncle's last will.\n",
            "The Round The Round\n",
            "A game will have at most 7 rounds. Each round has 5 phases:\n",
            "1. Setup2. Planning3. Errands4. Actions5. End of RoundIf any player manages to get rid of all their money during \n",
            "any round of the game, the round is still played in full.1. Setup 1. Setup\n",
            "First you need to know what opportunities are available.\n",
            "Deal one card onto each space of the card off  ering board. \n",
            "Th e icons indicate which type of card should be dealt where. \n",
            "On some spaces, the same deck will be used every round. On others, the deck changes as the game progresses.\n",
            "1st and 2nd round,\n",
            "property card\n",
            "3rd and subsequent \n",
            "rounds, event card\n",
            "In the fi  rst round, after the setup, each player chooses only \n",
            "two cards from their hand to keep and discards the rest, face--down, to the appropriate discard pile.\n",
            "Example of the setup of the ﬁ rst round in a 3 -player game Example of the setup of the ﬁ  rst round in a 3 -player game\n",
            "7\n",
            " Property Market  – Y ou \n",
            "may rearrange the four property market modifi  er \n",
            "tokens in any order you like. Y ou may also choose not to change them at all.\n",
            "Unknown Card  – Y ou may draw one card from \n",
            "any of the four regular decks (but not from the deck of special cards). T o indicate that all players can use this errand once per round, the board has a space for each colour. Y ou choose this errand by putting your fi  gure on the space with \n",
            "your colour. It is not possible for you to choose this errand twice in the same round.\n",
            "Opera  – Spend 2 pounds.\n",
            "4. Actions 4. Actions\n",
            "After the planning and errand phases, you will have some cards in your hand that will help you spend money. Th  is phase is your chance to use them.\n",
            "At the start of this phase, put your action counter on the \n",
            "space corresponding to the number of actions your chosen plan gives you. (Note: Th  e numbers on your board exceed \n",
            "the maximum available from the planning board because some cards may give you additional actions.)\n",
            "Players then play in turn, beginning with the one whose plan is farthest to the left and proceeding in the order deter-mined by the planning board. Each player gets one turn to use as many cards as he or she wishes.\n",
            "When it is your turn, you may play cards from your hand \n",
            "and activate cards you have played on your player board. A card will indicate how many actions it uses. If you play or activate a card that requires actions, move your action coun-ter to indicate the number of actions used. If you don't have enough actions remaining, you can't use that card.\n",
            "Some cards on your player board might not use any actions. \n",
            "Y ou may use these any time during your turn, even if you have no actions left. Once you are done using your cards, inform the next player that it is his or her turn.\n",
            "For details on how the cards work, see the section on Using \n",
            "Cards.5. End of Round 5. End of Round\n",
            "Th ings fall apart. But now that works in your favour.\n",
            "Once everyone is done playing actions, it is time to end the \n",
            "round. Th  is phase has several steps, which all players can \n",
            "handle simultaneously:\n",
            " d Discard Down to T wo  – Y ou may only keep 2 cards in \n",
            "your hand for the next round. Discard those you choose not to keep. Y ou are not allowed to keep a companion wild card in your hand. Even if you only have 1 or 2 cards left, you must return the companion wild card to the card off  ering board.\n",
            " d Depreciate Properties  – Proper-\n",
            "ties that can depreciate have a scale printed on the card indi-cating the current state of repair. Any such property that was not maintained during the action phase will depreciate. Move the value marker down one space. If the value marker is on the low-est space (or if the property has no scale) the property does not depreciate. Even properties acquired this round will de-preciate unless they were maintained. A property that was maintained (indicated by sliding the card so that the check mark is visible) will not depreciate in value this round.\n",
            " d Reset Cards  – Reset any activat-\n",
            "ed cards on your player board so that they cover their check marks again.\n",
            " d\n",
            " Clean Up Card Off  ering Board  – All cards remaining on the \n",
            "card off  ering board should be moved to their discard piles. \n",
            "Special cards do not have a discard pile and should be placed in the box as they will not be used anymore in the game.\n",
            " d\n",
            " Return Marker and Figures  – Remove all planning mark-\n",
            "ers and errand boy fi  gures from the game boards and \n",
            "return them to the players.\n",
            " d Move Round Counter  – Move the round \n",
            "counter down to the next number.\n",
            " d Pass On Starting Player Marker  – Th e player with the \n",
            "starting player marker passes it to the left.\n",
            "---------------------\n",
            "Given the context information and not prior knowledge, either pick the corresponding tool or answer the function: Give me in a short answer how to play the first turn?\n",
            "\n",
            "\u001b[0mSTARTING TURN 1\n",
            "---------------\n",
            "\n",
            "=== Calling Function ===\n",
            "Calling function: basic_rules with args: {\n",
            "  \"input\": \"1. Setup\"\n",
            "}\n",
            "Got output: In the setup phase of the game, players are dealt cards onto each space of the card offering board. The icons on the spaces indicate which type of card should be dealt there. Some spaces use the same deck every round, while others have a changing deck as the game progresses. In the first round, each player chooses only two cards from their hand to keep and discards the rest face-down to the appropriate discard pile.\n",
            "========================\n",
            "\n",
            "STARTING TURN 2\n",
            "---------------\n",
            "\n",
            "In the first turn of the game, players go through the setup phase. They are dealt cards onto each space of the card offering board. Each player then chooses only two cards from their hand to keep and discards the rest face-down to the appropriate discard pile.\n"
          ]
        }
      ]
    },
    {
      "cell_type": "markdown",
      "source": [
        "# Cost Optimization"
      ],
      "metadata": {
        "id": "BXtyedFBoBgK"
      }
    },
    {
      "cell_type": "code",
      "source": [
        "from llama_index.postprocessor import SentenceEmbeddingOptimizer\n",
        "\n",
        "\n",
        "query_engine = index.as_query_engine(\n",
        "    node_postprocessors=[SentenceEmbeddingOptimizer(percentile_cutoff=0.5)]\n",
        ")\n",
        "\n",
        "query_engine_tools = [\n",
        "    QueryEngineTool(\n",
        "        query_engine=query_engine,\n",
        "        metadata=ToolMetadata(\n",
        "            name=\"basic_rules\",\n",
        "            description=(\n",
        "                \"the basic game rules and description\"\n",
        "            ),\n",
        "        ),\n",
        "    ),\n",
        "]\n",
        "\n",
        "context_agent = ContextRetrieverOpenAIAgent.from_tools_and_retriever(\n",
        "    query_engine_tools,\n",
        "    index.as_retriever(similarity_top_k=3),\n",
        "    verbose=True,\n",
        ")\n",
        "\n",
        "response = context_agent.chat(\"Give me in a short answer how to play the first turn?\")\n",
        "\n",
        "print(response)"
      ],
      "metadata": {
        "colab": {
          "base_uri": "https://localhost:8080/"
        },
        "id": "L4XQEWHVoFd-",
        "outputId": "7699fab9-75cd-44ac-ba8d-1d414430c99a"
      },
      "execution_count": null,
      "outputs": [
        {
          "output_type": "stream",
          "name": "stdout",
          "text": [
            "\u001b[1;3;33mContext information is below.\n",
            "---------------------\n",
            "5\n",
            "2. Planning 2. Planning\n",
            "Th is is when you decide how many opportunities you want to consider , \n",
            "how many errands you need to have done for you, and how much of the day you will set aside for enjoying your money.\n",
            "Beginning with the starting player and continuing clockwise, \n",
            "each player makes a plan for the day by placing his or her planning marker on one of the hourglass spaces of the planning board.\n",
            "Y our choice determines:\n",
            " d Th e number of cards you draw.\n",
            "(Y ou take them immediately.)\n",
            " d Th e number of errand boys you will\n",
            "have in the errand phase.\n",
            " d Th e number of actions you will have\n",
            "in the action phase.\n",
            " d Th e order in which you will play\n",
            "for the remainder of the round.\n",
            "As soon as you declare your plan, draw the indicated number \n",
            "of cards. Y ou may draw cards in any combination from the tops of the 4 regular decks. Y ou cannot draw from the deck of special cards (with crowns on the backs). Y ou cannot draw from the cards on the card off  ering board. (Th  ose can only be \n",
            "taken in the errand phase.) Y ou must make all your decisions concerning how many cards to draw from each deck before you know what cards you have drawn; i.e. do not look at any of your new cards until you have drawn all of them.\n",
            "If a regular deck runs out of cards, shuffl   e that deck's discard \n",
            "pile and use it to make a new deck. (Th  e deck of special cards \n",
            "will have enough to last to the end of the game.)\n",
            "Further phases of the round will be played according to the order \n",
            "of the tokens on the plan of the day board. Th  e fi rst player will be \n",
            "that who has their planning marker in the leftmost position, the last player will be the one with the rightmost planning token.\n",
            "Note: Th  e start player marker does not change, even if an-\n",
            "other player is temporarily the 'fi  rst player' for this round.\n",
            "Example of a 5 -player game Example of a 5 -player game\n",
            "Red is the starting player , and the players are sitting in this order: \n",
            "Red, Purple, Blue, Yellow and Green.\n",
            "At the end of the planning phase, the board looks like this:\n",
            "Each player drew his or her cards immediately after choosing a plan.For the remaining phases of this round, players will play in this order: \n",
            "Purple, Y ellow, Blue, Green, Red.Planning in a 2 -player game Planning in a 2 -player game\n",
            "In a 2 -player game, the starting player begins the planning \n",
            "phase by placing one of the non -player planning markers on the board to block one of the plans. Th  e other player places \n",
            "the other non -player planning marker on the board to block another plan and then chooses an available plan and draws his or her cards. Finally, the starting player chooses one of the remaining plans and draws cards. Th  e non -player plan-\n",
            "ning markers have no other eff  ect this round.\n",
            "Example of a 2 -player game Example of a 2 -player game\n",
            "Green is the starting player for this round. She uses the red planning \n",
            "marker to block one of the options:\n",
            "Now it is Y ellow's turn. He uses the blue planning marker to block another option and then chooses a plan, with this result:\n",
            "Y ellow draws 2 cards. Now it is Green's turn to choose a plan:\n",
            "Green draws 7  cards, and the planning phase is done. Y ellow will start the errand phase because his token is farther to the left.\n",
            "4\n",
            "GoalGoal\n",
            "Y our goal is to spend all your money as fast as you can, in \n",
            "accordance with your uncle's last will.\n",
            "The Round The Round\n",
            "A game will have at most 7 rounds. Each round has 5 phases:\n",
            "1. Setup2. Planning3. Errands4. Actions5. End of RoundIf any player manages to get rid of all their money during \n",
            "any round of the game, the round is still played in full.1. Setup 1. Setup\n",
            "First you need to know what opportunities are available.\n",
            "Deal one card onto each space of the card off  ering board. \n",
            "Th e icons indicate which type of card should be dealt where. \n",
            "On some spaces, the same deck will be used every round. On others, the deck changes as the game progresses.\n",
            "1st and 2nd round,\n",
            "property card\n",
            "3rd and subsequent \n",
            "rounds, event card\n",
            "In the fi  rst round, after the setup, each player chooses only \n",
            "two cards from their hand to keep and discards the rest, face--down, to the appropriate discard pile.\n",
            "Example of the setup of the ﬁ rst round in a 3 -player game Example of the setup of the ﬁ  rst round in a 3 -player game\n",
            "7\n",
            " Property Market  – Y ou \n",
            "may rearrange the four property market modifi  er \n",
            "tokens in any order you like. Y ou may also choose not to change them at all.\n",
            "Unknown Card  – Y ou may draw one card from \n",
            "any of the four regular decks (but not from the deck of special cards). T o indicate that all players can use this errand once per round, the board has a space for each colour. Y ou choose this errand by putting your fi  gure on the space with \n",
            "your colour. It is not possible for you to choose this errand twice in the same round.\n",
            "Opera  – Spend 2 pounds.\n",
            "4. Actions 4. Actions\n",
            "After the planning and errand phases, you will have some cards in your hand that will help you spend money. Th  is phase is your chance to use them.\n",
            "At the start of this phase, put your action counter on the \n",
            "space corresponding to the number of actions your chosen plan gives you. (Note: Th  e numbers on your board exceed \n",
            "the maximum available from the planning board because some cards may give you additional actions.)\n",
            "Players then play in turn, beginning with the one whose plan is farthest to the left and proceeding in the order deter-mined by the planning board. Each player gets one turn to use as many cards as he or she wishes.\n",
            "When it is your turn, you may play cards from your hand \n",
            "and activate cards you have played on your player board. A card will indicate how many actions it uses. If you play or activate a card that requires actions, move your action coun-ter to indicate the number of actions used. If you don't have enough actions remaining, you can't use that card.\n",
            "Some cards on your player board might not use any actions. \n",
            "Y ou may use these any time during your turn, even if you have no actions left. Once you are done using your cards, inform the next player that it is his or her turn.\n",
            "For details on how the cards work, see the section on Using \n",
            "Cards.5. End of Round 5. End of Round\n",
            "Th ings fall apart. But now that works in your favour.\n",
            "Once everyone is done playing actions, it is time to end the \n",
            "round. Th  is phase has several steps, which all players can \n",
            "handle simultaneously:\n",
            " d Discard Down to T wo  – Y ou may only keep 2 cards in \n",
            "your hand for the next round. Discard those you choose not to keep. Y ou are not allowed to keep a companion wild card in your hand. Even if you only have 1 or 2 cards left, you must return the companion wild card to the card off  ering board.\n",
            " d Depreciate Properties  – Proper-\n",
            "ties that can depreciate have a scale printed on the card indi-cating the current state of repair. Any such property that was not maintained during the action phase will depreciate. Move the value marker down one space. If the value marker is on the low-est space (or if the property has no scale) the property does not depreciate. Even properties acquired this round will de-preciate unless they were maintained. A property that was maintained (indicated by sliding the card so that the check mark is visible) will not depreciate in value this round.\n",
            " d Reset Cards  – Reset any activat-\n",
            "ed cards on your player board so that they cover their check marks again.\n",
            " d\n",
            " Clean Up Card Off  ering Board  – All cards remaining on the \n",
            "card off  ering board should be moved to their discard piles. \n",
            "Special cards do not have a discard pile and should be placed in the box as they will not be used anymore in the game.\n",
            " d\n",
            " Return Marker and Figures  – Remove all planning mark-\n",
            "ers and errand boy fi  gures from the game boards and \n",
            "return them to the players.\n",
            " d Move Round Counter  – Move the round \n",
            "counter down to the next number.\n",
            " d Pass On Starting Player Marker  – Th e player with the \n",
            "starting player marker passes it to the left.\n",
            "---------------------\n",
            "Given the context information and not prior knowledge, either pick the corresponding tool or answer the function: Give me in a short answer how to play the first turn?\n",
            "\n",
            "\u001b[0mSTARTING TURN 1\n",
            "---------------\n",
            "\n",
            "=== Calling Function ===\n",
            "Calling function: basic_rules with args: {\n",
            "  \"input\": \"1. Setup\"\n",
            "}\n",
            "Got output: In the game described in the context, the first phase of each round is the \"Setup\" phase. During this phase, players need to know what opportunities are available. In the first round, after the setup, each player chooses only two cards from their hand to keep and discards the rest face-down to the appropriate discard pile. Additionally, one card is dealt onto each space of the card offering board.\n",
            "========================\n",
            "\n",
            "STARTING TURN 2\n",
            "---------------\n",
            "\n",
            "To play the first turn in the game, follow these steps:\n",
            "\n",
            "1. Begin with the \"Setup\" phase.\n",
            "2. Deal one card onto each space of the card offering board.\n",
            "3. Each player chooses only two cards from their hand to keep and discards the rest face-down to the appropriate discard pile.\n",
            "\n",
            "These steps will set up the game for the first round and prepare the players for the subsequent phases.\n"
          ]
        }
      ]
    },
    {
      "cell_type": "code",
      "source": [
        "response = context_agent.chat(\"How can i win the game?\")\n",
        "\n",
        "print(response)"
      ],
      "metadata": {
        "colab": {
          "base_uri": "https://localhost:8080/"
        },
        "id": "MV-CdoTDofiu",
        "outputId": "9663f74a-13f0-474e-b449-1a9706e8cc19"
      },
      "execution_count": null,
      "outputs": [
        {
          "output_type": "stream",
          "name": "stdout",
          "text": [
            "\u001b[1;3;33mContext information is below.\n",
            "---------------------\n",
            "4\n",
            "GoalGoal\n",
            "Y our goal is to spend all your money as fast as you can, in \n",
            "accordance with your uncle's last will.\n",
            "The Round The Round\n",
            "A game will have at most 7 rounds. Each round has 5 phases:\n",
            "1. Setup2. Planning3. Errands4. Actions5. End of RoundIf any player manages to get rid of all their money during \n",
            "any round of the game, the round is still played in full.1. Setup 1. Setup\n",
            "First you need to know what opportunities are available.\n",
            "Deal one card onto each space of the card off  ering board. \n",
            "Th e icons indicate which type of card should be dealt where. \n",
            "On some spaces, the same deck will be used every round. On others, the deck changes as the game progresses.\n",
            "1st and 2nd round,\n",
            "property card\n",
            "3rd and subsequent \n",
            "rounds, event card\n",
            "In the fi  rst round, after the setup, each player chooses only \n",
            "two cards from their hand to keep and discards the rest, face--down, to the appropriate discard pile.\n",
            "Example of the setup of the ﬁ rst round in a 3 -player game Example of the setup of the ﬁ  rst round in a 3 -player game\n",
            "If you still have cards and actions that you can use, you may continue to do so to run up a debt.\n",
            "A player has 2 pounds left. On his player board, he has a property and an expense card (Reservation) which allows the player to spend 1 pound. Earlier in the game, this card has been improved with a chef token, so that it can now be activated for 3 pounds. Th  e player can only \n",
            "use the fi  rst option, spending 1 pound. He cannot use the second option as he does not have 3 pounds to spend and he still owns a property.\n",
            "Money is not kept secret in this game. When asked, players must tell each other how much they have left.\n",
            "Ending the Game Ending the Game\n",
            "Your houses are falling down, your racing dog never gets out of the starting gate, your favourite restaurant is overcharging you for every meal, and now you are debt. Congratulations! You win!\n",
            "When a player has no money and no properties, he or she de-\n",
            "clares bankruptcy, which signals the end of the game. Th  at \n",
            "round is played out to the end, but it is the fi  nal round. If \n",
            "no one declares bankruptcy in the fi  rst six rounds, then the \n",
            "seventh round is the fi  nal round.\n",
            "Th e winner is the player who ran up the biggest debt. (See \n",
            "Spending Money, above.) If no one went into debt, the winner is the player who has the least money and property. For this comparison, properties are valued at their current value plus 5 pounds. (Y our helper cards and the modifi  er tokens in the \n",
            "property market do not apply.) Ti  es are broken in favour of the \n",
            "player who chose the plan farther to the left in the fi  nal round.\n",
            "5\n",
            "2. Planning 2. Planning\n",
            "Th is is when you decide how many opportunities you want to consider , \n",
            "how many errands you need to have done for you, and how much of the day you will set aside for enjoying your money.\n",
            "Beginning with the starting player and continuing clockwise, \n",
            "each player makes a plan for the day by placing his or her planning marker on one of the hourglass spaces of the planning board.\n",
            "Y our choice determines:\n",
            " d Th e number of cards you draw.\n",
            "(Y ou take them immediately.)\n",
            " d Th e number of errand boys you will\n",
            "have in the errand phase.\n",
            " d Th e number of actions you will have\n",
            "in the action phase.\n",
            " d Th e order in which you will play\n",
            "for the remainder of the round.\n",
            "As soon as you declare your plan, draw the indicated number \n",
            "of cards. Y ou may draw cards in any combination from the tops of the 4 regular decks. Y ou cannot draw from the deck of special cards (with crowns on the backs). Y ou cannot draw from the cards on the card off  ering board. (Th  ose can only be \n",
            "taken in the errand phase.) Y ou must make all your decisions concerning how many cards to draw from each deck before you know what cards you have drawn; i.e. do not look at any of your new cards until you have drawn all of them.\n",
            "If a regular deck runs out of cards, shuffl   e that deck's discard \n",
            "pile and use it to make a new deck. (Th  e deck of special cards \n",
            "will have enough to last to the end of the game.)\n",
            "Further phases of the round will be played according to the order \n",
            "of the tokens on the plan of the day board. Th  e fi rst player will be \n",
            "that who has their planning marker in the leftmost position, the last player will be the one with the rightmost planning token.\n",
            "Note: Th  e start player marker does not change, even if an-\n",
            "other player is temporarily the 'fi  rst player' for this round.\n",
            "Example of a 5 -player game Example of a 5 -player game\n",
            "Red is the starting player , and the players are sitting in this order: \n",
            "Red, Purple, Blue, Yellow and Green.\n",
            "At the end of the planning phase, the board looks like this:\n",
            "Each player drew his or her cards immediately after choosing a plan.For the remaining phases of this round, players will play in this order: \n",
            "Purple, Y ellow, Blue, Green, Red.Planning in a 2 -player game Planning in a 2 -player game\n",
            "In a 2 -player game, the starting player begins the planning \n",
            "phase by placing one of the non -player planning markers on the board to block one of the plans. Th  e other player places \n",
            "the other non -player planning marker on the board to block another plan and then chooses an available plan and draws his or her cards. Finally, the starting player chooses one of the remaining plans and draws cards. Th  e non -player plan-\n",
            "ning markers have no other eff  ect this round.\n",
            "Example of a 2 -player game Example of a 2 -player game\n",
            "Green is the starting player for this round. She uses the red planning \n",
            "marker to block one of the options:\n",
            "Now it is Y ellow's turn. He uses the blue planning marker to block another option and then chooses a plan, with this result:\n",
            "Y ellow draws 2 cards. Now it is Green's turn to choose a plan:\n",
            "Green draws 7  cards, and the planning phase is done. Y ellow will start the errand phase because his token is farther to the left.\n",
            "---------------------\n",
            "Given the context information and not prior knowledge, either pick the corresponding tool or answer the function: How can i win the game?\n",
            "\n",
            "\u001b[0mSTARTING TURN 1\n",
            "---------------\n",
            "\n",
            "To win the game, you need to spend all your money as fast as you can, in accordance with your uncle's last will. You can do this by strategically planning your actions and making the most of the opportunities available to you. During the planning phase, you can decide how many opportunities to consider, how many errands to have done for you, and how much time to set aside for enjoying your money. Your choices during this phase will determine the number of cards you draw, the number of errand boys you will have, the number of actions you will have, and the order in which you will play for the remainder of the round. By carefully planning and utilizing these resources, you can maximize your chances of spending all your money and winning the game.\n"
          ]
        }
      ]
    },
    {
      "cell_type": "markdown",
      "source": [
        "#Reranking"
      ],
      "metadata": {
        "id": "zoV3c8Yio5X6"
      }
    },
    {
      "cell_type": "code",
      "source": [
        "from llama_index import (\n",
        "    VectorStoreIndex,\n",
        "    SimpleDirectoryReader,\n",
        "    ServiceContext,\n",
        ")\n",
        "\n",
        "from llama_index.llms import OpenAI\n",
        "\n",
        "documents = SimpleDirectoryReader(\"data\").load_data()\n",
        "\n",
        "llm = OpenAI(temperature=0, model=\"gpt-3.5-turbo\")\n",
        "service_context = ServiceContext.from_defaults(llm=llm, chunk_size=512)\n",
        "\n",
        "index = VectorStoreIndex.from_documents(\n",
        "    documents, service_context=service_context\n",
        ")\n"
      ],
      "metadata": {
        "id": "HVWnU8G5pp_X"
      },
      "execution_count": null,
      "outputs": []
    },
    {
      "cell_type": "code",
      "source": [
        "from llama_index.postprocessor import LLMRerank\n",
        "\n",
        "reranker = LLMRerank(\n",
        "        choice_batch_size=5,\n",
        "        top_n=3,\n",
        "        service_context=service_context,\n",
        "  )"
      ],
      "metadata": {
        "id": "9ZyWjBGBo7Zm"
      },
      "execution_count": null,
      "outputs": []
    },
    {
      "cell_type": "code",
      "source": [
        "query_engine = index.as_query_engine(\n",
        "    similarity_top_k=10,\n",
        "    node_postprocessors=[reranker],\n",
        "    response_mode=\"refine\",\n",
        ")"
      ],
      "metadata": {
        "id": "5ez17tiXpTiK"
      },
      "execution_count": null,
      "outputs": []
    },
    {
      "cell_type": "code",
      "source": [
        "response = query_engine.query(\n",
        "    \"What is the best strategy for the first turns?\",\n",
        ")\n",
        "\n",
        "print(response)"
      ],
      "metadata": {
        "colab": {
          "base_uri": "https://localhost:8080/"
        },
        "id": "b2a2t3eJqJj8",
        "outputId": "ec50c8cb-4083-4dda-dde3-3f13499cc8cd"
      },
      "execution_count": null,
      "outputs": [
        {
          "output_type": "stream",
          "name": "stdout",
          "text": [
            "When starting the game, it is important to consider your priorities and goals. Determine how many errands you want to pursue, how many tasks you need assistance with, and how much time you want to allocate for leisure activities. These factors will influence the number of errand boys you should place, the number of errands you will be able to perform, and the sequence in which you will play for the rest of the round. It is crucial to make these decisions without knowing the specific errand opportunities available.\n"
          ]
        }
      ]
    },
    {
      "cell_type": "code",
      "source": [
        "response = query_engine.query(\n",
        "    \"What are the basic rules?\",\n",
        ")\n",
        "\n",
        "print(response)"
      ],
      "metadata": {
        "colab": {
          "base_uri": "https://localhost:8080/"
        },
        "id": "kPILNd6Uqpb9",
        "outputId": "7767dcde-da20-463f-991c-1ca99ee6363b"
      },
      "execution_count": null,
      "outputs": [
        {
          "output_type": "stream",
          "name": "stdout",
          "text": [
            "The basic rules of the game involve using cards to take actions and spending all your money as quickly as possible according to your uncle's last will. The game consists of up to 7 rounds, each with 5 phases: Setup, Planning, Errands, Actions, and End of Round. During Setup, players are dealt cards onto the card offering board, with different types of cards being used in different rounds. In the first round, players choose two cards to keep from their hand and discard the rest.\n"
          ]
        }
      ]
    }
  ]
}