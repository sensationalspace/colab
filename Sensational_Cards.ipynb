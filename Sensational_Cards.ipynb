{
  "nbformat": 4,
  "nbformat_minor": 0,
  "metadata": {
    "colab": {
      "provenance": [],
      "authorship_tag": "ABX9TyPXnjq9eJC8nEPeQ3h3yBgT",
      "include_colab_link": true
    },
    "kernelspec": {
      "name": "python3",
      "display_name": "Python 3"
    },
    "language_info": {
      "name": "python"
    }
  },
  "cells": [
    {
      "cell_type": "markdown",
      "metadata": {
        "id": "view-in-github",
        "colab_type": "text"
      },
      "source": [
        "<a href=\"https://colab.research.google.com/github/sensationalspace/colab/blob/main/Sensational_Cards.ipynb\" target=\"_parent\"><img src=\"https://colab.research.google.com/assets/colab-badge.svg\" alt=\"Open In Colab\"/></a>"
      ]
    },
    {
      "cell_type": "markdown",
      "source": [
        "Question 1: Create a Python class for a playing card."
      ],
      "metadata": {
        "id": "_S34iLG2_IbE"
      }
    },
    {
      "cell_type": "code",
      "execution_count": 9,
      "metadata": {
        "colab": {
          "base_uri": "https://localhost:8080/"
        },
        "id": "qghFjGIE_GML",
        "outputId": "66c86012-411e-490f-f966-f85aed641255"
      },
      "outputs": [
        {
          "output_type": "stream",
          "name": "stdout",
          "text": [
            "A♠\n"
          ]
        }
      ],
      "source": [
        "class Card:\n",
        "    def __init__(self, rank, suit):\n",
        "        self.rank = rank\n",
        "        self.suit = suit\n",
        "\n",
        "    def __repr__(self):\n",
        "        return f\"{self.rank}{self.suit}\"\n",
        "\n",
        "# Creating an instance of the Card class\n",
        "card = Card(\"A\", \"♠\")\n",
        "\n",
        "# Printing the instance\n",
        "print(card)"
      ]
    },
    {
      "cell_type": "markdown",
      "source": [
        "Question 2: Write a function to compare two cards to determine which is higher in rank."
      ],
      "metadata": {
        "id": "wbqbM76U_XJy"
      }
    },
    {
      "cell_type": "code",
      "source": [
        "def compare_cards(card1, card2):\n",
        "    ranks = ['2', '3', '4', '5', '6', '7', '8', '9', '10', 'J', 'Q', 'K', 'A']\n",
        "    return ranks.index(card1.rank) - ranks.index(card2.rank)\n",
        "\n",
        "# Creating an instance of the Card class\n",
        "card1 = Card(\"Q\", \"♠\")\n",
        "\n",
        "# Creating an instance of the Card class\n",
        "card2 = Card(\"A\", \"♦\")\n",
        "# Printing the instance\n",
        "print(compare_cards(card1, card2))"
      ],
      "metadata": {
        "colab": {
          "base_uri": "https://localhost:8080/"
        },
        "id": "IDhNMrp7_S9T",
        "outputId": "78771c70-ebe4-4595-b8bb-eebb8467cccb"
      },
      "execution_count": 16,
      "outputs": [
        {
          "output_type": "stream",
          "name": "stdout",
          "text": [
            "-2\n"
          ]
        }
      ]
    },
    {
      "cell_type": "code",
      "source": [
        "# Function definition\n",
        "def compare_cards(card1, card2):\n",
        "    ranks = ['2', '3', '4', '5', '6', '7', '8', '9', '10', 'J', 'Q', 'K', 'A']\n",
        "    return ranks.index(card1.rank) - ranks.index(card2.rank)\n",
        "\n",
        "# Creating instances of the Card class\n",
        "card1 = Card(\"A\", \"♠\")\n",
        "card2 = Card(\"K\", \"♦\")\n",
        "\n",
        "# Calling the function and printing the result\n",
        "print(compare_cards(card1, card2))\n"
      ],
      "metadata": {
        "colab": {
          "base_uri": "https://localhost:8080/"
        },
        "id": "bG7eWeOAEKow",
        "outputId": "b45eb63c-7e9e-4846-bb24-af5c883d4c66"
      },
      "execution_count": 10,
      "outputs": [
        {
          "output_type": "stream",
          "name": "stdout",
          "text": [
            "1\n"
          ]
        }
      ]
    },
    {
      "cell_type": "markdown",
      "source": [
        "Question 3: Create a Python class for a deck of cards with a method to shuffle the deck."
      ],
      "metadata": {
        "id": "VAKkDVv2Fxbl"
      }
    },
    {
      "cell_type": "code",
      "source": [
        "import random\n",
        "\n",
        "class Deck:\n",
        "    def __init__(self):\n",
        "        ranks = ['2', '3', '4', '5', '6', '7', '8', '9', '10', 'J', 'Q', 'K', 'A']\n",
        "        suits = ['♣', '♦', '♥', '♠']\n",
        "        self.cards = [Card(rank, suit) for suit in suits for rank in ranks]\n",
        "\n",
        "    def shuffle(self):\n",
        "        random.shuffle(self.cards)\n",
        "\n",
        "# Create a Deck instance\n",
        "deck = Deck()\n",
        "\n",
        "# Print all cards in the deck\n",
        "for card in deck.cards:\n",
        "    print(card)\n"
      ],
      "metadata": {
        "colab": {
          "base_uri": "https://localhost:8080/"
        },
        "id": "bmVBCFkxF0EE",
        "outputId": "c8448f05-5c14-4145-e519-7231a698b7e2"
      },
      "execution_count": 20,
      "outputs": [
        {
          "output_type": "stream",
          "name": "stdout",
          "text": [
            "2♣\n",
            "3♣\n",
            "4♣\n",
            "5♣\n",
            "6♣\n",
            "7♣\n",
            "8♣\n",
            "9♣\n",
            "10♣\n",
            "J♣\n",
            "Q♣\n",
            "K♣\n",
            "A♣\n",
            "2♦\n",
            "3♦\n",
            "4♦\n",
            "5♦\n",
            "6♦\n",
            "7♦\n",
            "8♦\n",
            "9♦\n",
            "10♦\n",
            "J♦\n",
            "Q♦\n",
            "K♦\n",
            "A♦\n",
            "2♥\n",
            "3♥\n",
            "4♥\n",
            "5♥\n",
            "6♥\n",
            "7♥\n",
            "8♥\n",
            "9♥\n",
            "10♥\n",
            "J♥\n",
            "Q♥\n",
            "K♥\n",
            "A♥\n",
            "2♠\n",
            "3♠\n",
            "4♠\n",
            "5♠\n",
            "6♠\n",
            "7♠\n",
            "8♠\n",
            "9♠\n",
            "10♠\n",
            "J♠\n",
            "Q♠\n",
            "K♠\n",
            "A♠\n"
          ]
        }
      ]
    }
  ]
}