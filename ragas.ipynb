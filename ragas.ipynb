{
  "nbformat": 4,
  "nbformat_minor": 0,
  "metadata": {
    "colab": {
      "provenance": [],
      "include_colab_link": true
    },
    "kernelspec": {
      "name": "python3",
      "display_name": "Python 3"
    },
    "language_info": {
      "name": "python"
    }
  },
  "cells": [
    {
      "cell_type": "markdown",
      "metadata": {
        "id": "view-in-github",
        "colab_type": "text"
      },
      "source": [
        "<a href=\"https://colab.research.google.com/github/sensationalspace/colab/blob/main/ragas.ipynb\" target=\"_parent\"><img src=\"https://colab.research.google.com/assets/colab-badge.svg\" alt=\"Open In Colab\"/></a>"
      ]
    },
    {
      "cell_type": "code",
      "source": [
        "!pip install -qU \\\n",
        "    nemoguardrails==0.4.0 \\\n",
        "    ragas \\\n",
        "    tiktoken \\\n",
        "    datasets==2.14.3 \\\n",
        "    openai==0.27.8"
      ],
      "metadata": {
        "id": "9AtCNQ-_c__A"
      },
      "execution_count": null,
      "outputs": []
    },
    {
      "cell_type": "code",
      "source": [
        "import os\n",
        "os.environ[\"OPENAI_API_KEY\"] = \"Your OpenAI Key\"\n",
        "\n",
        "# data\n",
        "from datasets import load_dataset\n",
        "\n",
        "fiqa_eval = load_dataset(\"explodinggradients/fiqa\", \"ragas_eval\")\n",
        "fiqa_eval"
      ],
      "metadata": {
        "id": "sP4FRRs9dv3F"
      },
      "execution_count": null,
      "outputs": []
    },
    {
      "cell_type": "code",
      "source": [
        "from ragas.metrics import (\n",
        "    context_relevancy,\n",
        "    answer_relevancy,\n",
        "    faithfulness,\n",
        "    context_recall,\n",
        ")\n",
        "from ragas.metrics.critique import harmfulness\n",
        "\n",
        "from ragas import evaluate"
      ],
      "metadata": {
        "id": "VuEHEP8MeP9A"
      },
      "execution_count": null,
      "outputs": []
    },
    {
      "cell_type": "code",
      "source": [
        "result = evaluate(\n",
        "    fiqa_eval[\"baseline\"].select(range(3)),\n",
        "    metrics=[\n",
        "        context_relevancy,\n",
        "        faithfulness,\n",
        "        answer_relevancy,\n",
        "        context_recall,\n",
        "        harmfulness,\n",
        "    ],\n",
        ")\n",
        "\n",
        "result"
      ],
      "metadata": {
        "id": "9ZKD__60evF7"
      },
      "execution_count": null,
      "outputs": []
    },
    {
      "cell_type": "code",
      "source": [
        "df = result.to_pandas()\n",
        "df.head()"
      ],
      "metadata": {
        "id": "wYTtShp6fZdX"
      },
      "execution_count": null,
      "outputs": []
    }
  ]
}