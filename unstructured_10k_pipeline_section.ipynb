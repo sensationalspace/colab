{
  "cells": [
    {
      "cell_type": "markdown",
      "metadata": {
        "id": "view-in-github",
        "colab_type": "text"
      },
      "source": [
        "<a href=\"https://colab.research.google.com/github/sensationalspace/colab/blob/main/unstructured_10k_pipeline_section.ipynb\" target=\"_parent\"><img src=\"https://colab.research.google.com/assets/colab-badge.svg\" alt=\"Open In Colab\"/></a>"
      ]
    },
    {
      "cell_type": "markdown",
      "metadata": {
        "id": "YkhRlN0lcl-Q"
      },
      "source": [
        "# SEC Filing Section Pipeline"
      ]
    },
    {
      "cell_type": "markdown",
      "metadata": {
        "id": "gIUVi6fFr-X-"
      },
      "source": [
        "This notebook defines the pipeline for extracting the narrative text sections\n",
        "from the 10-K, 10-Q, and S-1 filings. This notebook contains both\n",
        "exploration code and the code for defining the API. Code cells marked\n",
        "with `#pipeline-api` are included in the API definition.\n",
        "\n",
        "To demonstrate how off-the-shelf Unstructured Bricks extract\n",
        "meaningful data from complex source documents, we will apply\n",
        "a series of Bricks with explanations before defining the API.\n"
      ]
    },
    {
      "cell_type": "markdown",
      "metadata": {
        "id": "2MxFrUHNdi_0"
      },
      "source": [
        "#### Table of Contents\n",
        "\n",
        "1. [Pulling in Raw Documents](#raw)\n",
        "1. [Reading the Document](#reading)\n",
        "1. [Custom Partitioning Bricks](#custom)\n",
        "1. [Cleaning Bricks](#cleaning)\n",
        "1. [Staging Bricks](#staging)\n",
        "1. [Define the Pipeline API](#pipeline)"
      ]
    },
    {
      "cell_type": "code",
      "execution_count": 1,
      "metadata": {
        "colab": {
          "base_uri": "https://localhost:8080/"
        },
        "id": "Imh7_VOtjzVZ",
        "outputId": "b85729cf-e2d3-4ef3-b077-8b7b742adf97"
      },
      "outputs": [
        {
          "output_type": "stream",
          "name": "stdout",
          "text": [
            "Cloning into 'pipeline-sec-filings'...\n",
            "remote: Enumerating objects: 69, done.\u001b[K\n",
            "remote: Counting objects: 100% (69/69), done.\u001b[K\n",
            "remote: Compressing objects: 100% (63/63), done.\u001b[K\n",
            "remote: Total 69 (delta 2), reused 43 (delta 1), pack-reused 0\u001b[K\n",
            "Receiving objects: 100% (69/69), 216.03 KiB | 3.43 MiB/s, done.\n",
            "Resolving deltas: 100% (2/2), done.\n",
            "/content/pipeline-sec-filings\n"
          ]
        }
      ],
      "source": [
        "# Install pipeline-sec-filings\n",
        "!git clone https://github.com/Unstructured-IO/pipeline-sec-filings.git --depth=1\n",
        "%cd pipeline-sec-filings"
      ]
    },
    {
      "cell_type": "code",
      "execution_count": null,
      "metadata": {
        "colab": {
          "base_uri": "https://localhost:8080/"
        },
        "id": "o9EfIXHa8Tsd",
        "outputId": "5133cbb2-22aa-4a5a-9c77-587f08700195"
      },
      "outputs": [
        {
          "output_type": "stream",
          "name": "stdout",
          "text": [
            "  Preparing metadata (setup.py) ... \u001b[?25l\u001b[?25hdone\n",
            "\u001b[2K     \u001b[90m━━━━━━━━━━━━━━━━━━━━━━━━━━━━━━━━━━━━━━━━\u001b[0m \u001b[32m1.3/1.3 MB\u001b[0m \u001b[31m12.2 MB/s\u001b[0m eta \u001b[36m0:00:00\u001b[0m\n",
            "\u001b[?25h  Preparing metadata (setup.py) ... \u001b[?25l\u001b[?25hdone\n",
            "\u001b[2K     \u001b[90m━━━━━━━━━━━━━━━━━━━━━━━━━━━━━━━━━━━━━━━━\u001b[0m \u001b[32m1.8/1.8 MB\u001b[0m \u001b[31m29.7 MB/s\u001b[0m eta \u001b[36m0:00:00\u001b[0m\n",
            "\u001b[2K     \u001b[90m━━━━━━━━━━━━━━━━━━━━━━━━━━━━━━━━━━━━━━━━\u001b[0m \u001b[32m5.6/5.6 MB\u001b[0m \u001b[31m43.6 MB/s\u001b[0m eta \u001b[36m0:00:00\u001b[0m\n",
            "\u001b[?25h  Preparing metadata (setup.py) ... \u001b[?25l\u001b[?25hdone\n",
            "\u001b[2K     \u001b[90m━━━━━━━━━━━━━━━━━━━━━━━━━━━━━━━━━━━━━━━━\u001b[0m \u001b[32m10.1/10.1 MB\u001b[0m \u001b[31m42.5 MB/s\u001b[0m eta \u001b[36m0:00:00\u001b[0m\n",
            "\u001b[?25h  Preparing metadata (setup.py) ... \u001b[?25l\u001b[?25hdone\n",
            "\u001b[2K     \u001b[90m━━━━━━━━━━━━━━━━━━━━━━━━━━━━━━━━━━━━━━━\u001b[0m \u001b[32m71.5/71.5 KB\u001b[0m \u001b[31m724.0 kB/s\u001b[0m eta \u001b[36m0:00:00\u001b[0m\n",
            "\u001b[2K     \u001b[90m━━━━━━━━━━━━━━━━━━━━━━━━━━━━━━━━━━━━━━━\u001b[0m \u001b[32m152.8/152.8 KB\u001b[0m \u001b[31m4.3 MB/s\u001b[0m eta \u001b[36m0:00:00\u001b[0m\n",
            "\u001b[2K     \u001b[90m━━━━━━━━━━━━━━━━━━━━━━━━━━━━━━━━━━━━━━━━\u001b[0m \u001b[32m69.6/69.6 KB\u001b[0m \u001b[31m2.2 MB/s\u001b[0m eta \u001b[36m0:00:00\u001b[0m\n",
            "\u001b[2K     \u001b[90m━━━━━━━━━━━━━━━━━━━━━━━━━━━━━━━━━━━━━━━━\u001b[0m \u001b[32m80.6/80.6 KB\u001b[0m \u001b[31m3.0 MB/s\u001b[0m eta \u001b[36m0:00:00\u001b[0m\n",
            "\u001b[2K     \u001b[90m━━━━━━━━━━━━━━━━━━━━━━━━━━━━━━━━━━━━━━━━\u001b[0m \u001b[32m58.3/58.3 KB\u001b[0m \u001b[31m3.2 MB/s\u001b[0m eta \u001b[36m0:00:00\u001b[0m\n",
            "\u001b[?25h  Building wheel for unstructured (setup.py) ... \u001b[?25l\u001b[?25hdone\n",
            "  Building wheel for ratelimit (setup.py) ... \u001b[?25l\u001b[?25hdone\n",
            "  Building wheel for python-docx (setup.py) ... \u001b[?25l\u001b[?25hdone\n",
            "  Building wheel for python-pptx (setup.py) ... \u001b[?25l\u001b[?25hdone\n"
          ]
        }
      ],
      "source": [
        "# Install Python requirements\n",
        "!pip install -q ratelimit unstructured==0.4.6\n",
        "# upgrade to the latest, though has not been tested\n",
        "# !pip install -q --upgrade ratelimit unstructured"
      ]
    },
    {
      "cell_type": "code",
      "execution_count": null,
      "metadata": {
        "colab": {
          "base_uri": "https://localhost:8080/"
        },
        "id": "A9ZX3IUKGd6v",
        "outputId": "f566796c-62eb-44ae-a956-b39583e1c227"
      },
      "outputs": [
        {
          "output_type": "stream",
          "name": "stderr",
          "text": [
            "[nltk_data] Downloading package punkt to /root/nltk_data...\n",
            "[nltk_data]   Unzipping tokenizers/punkt.zip.\n",
            "[nltk_data] Downloading package averaged_perceptron_tagger to\n",
            "[nltk_data]     /root/nltk_data...\n",
            "[nltk_data]   Unzipping taggers/averaged_perceptron_tagger.zip.\n"
          ]
        },
        {
          "output_type": "execute_result",
          "data": {
            "text/plain": [
              "True"
            ]
          },
          "metadata": {},
          "execution_count": 3
        }
      ],
      "source": [
        "# Install NLTK Data\n",
        "import nltk\n",
        "nltk.download('punkt')\n",
        "nltk.download('averaged_perceptron_tagger')"
      ]
    },
    {
      "cell_type": "markdown",
      "metadata": {
        "id": "zbMXRglAcNoN"
      },
      "source": [
        "## Section 1: Pulling in Raw Documents <a name=\"raw\"></a>"
      ]
    },
    {
      "cell_type": "markdown",
      "metadata": {
        "id": "YEJXUywWcWGN"
      },
      "source": [
        "First, let's pull in a filing from the SEC EDGAR database.\n",
        "In this case, we'll pull in the most recent 10-K for Royal Gold (RGLD),\n",
        "a publicly traded precious metals company."
      ]
    },
    {
      "cell_type": "code",
      "execution_count": null,
      "metadata": {
        "id": "V3YUPkS8cYhM"
      },
      "outputs": [],
      "source": [
        "from prepline_sec_filings.fetch import (\n",
        "    get_form_by_ticker, open_form_by_ticker\n",
        ")\n",
        "\n",
        "text = get_form_by_ticker(\n",
        "    'rgld',\n",
        "    '10-K',\n",
        "    company='Unstructured Technologies',\n",
        "    email='support@unstructured.io'\n",
        ")"
      ]
    },
    {
      "cell_type": "code",
      "execution_count": null,
      "metadata": {
        "colab": {
          "base_uri": "https://localhost:8080/"
        },
        "id": "k5EsnP0KAQxq",
        "outputId": "892a678f-a1eb-4821-9ac3-d449919050a7"
      },
      "outputs": [
        {
          "output_type": "stream",
          "name": "stdout",
          "text": [
            "<XBRL>\n",
            "<?xml version='1.0' encoding='UTF-8'?>\n",
            "\n",
            "      <!-- iXBRL document created with: Toppan Merrill Bridge iXBRL 9.6.7811.37134 -->\n",
            "      <!-- Based on: iXBRL 1.1 -->\n",
            "      <!-- Created on: 8/11/2021 10:45:07 PM -->\n",
            "      <!-- iXBRL Library version: 1.0.7811.37150 -->\n",
            "      <!-- iXBRL Service Job ID: 19f8db26-9ac2-4427-9c71-ed8734c57db7 -->\n",
            "\n",
            "  <html xmlns:us-gaap=\"http://fasb.org/us-gaap/2020-01-31\" xmlns:link=\"http://www.xbrl.org/2003/linkbase\" xmlns:country=\"http://xbrl.sec.gov/country/2020-01-31\" xmlns:xsi=\"http://www.w3.org/2001/XMLSchema-instance\" xmlns:rgld=\"http://www.royalgold.com/20210630\" xmlns:xbrldt=\"http://xbrl.org/2005/xbrldt\" xmlns:ixt-sec=\"http://www.sec.gov/inlineXBRL/transformation/2015-08-31\" xmlns:srt=\"http://fasb.org/srt/2020-01-31\" xmlns:ix=\"http://www.xbrl.org/2013/inlineXBRL\" xmlns:ref=\"http://www.xbrl.org/2006/ref\" xmlns:utr=\"http://www.xbrl.org/2009/utr\" xmlns:xbrli=\"http://www.xbrl.org/2003/instance\" xmlns:dei=\"http://xbrl.sec.gov/dei/2020-01-31\" xmlns:iso4217=\"http://www.xbrl.org/2003/iso4217\" xmlns=\"http://www.w3.org/1999/xhtml\" xmlns:xlink=\"http://www.w3.org/1999/xlink\" xmlns:xs=\"http://www.w3.org/2001/XMLSchema-instance\" xmlns:ixt=\"http://www.xbrl.org/inlineXBRL/transformation/2015-02-26\" xmlns:xbrldi=\"http://xbrl.org/2006/xbrldi\"><head><meta content=\"text/html\" http-equiv=\"content-type\" /><title></title></head><body><div style=\"margin-top:30pt;\"></div><div style=\"display:none;\"><ix:header><ix:hidden><ix:nonNumeric contextRef=\"Duration_7_1_2020_To_6_30_2021_srt_RangeAxis_srt_MinimumMember_76I-qBLrdESpASXnsjZqeg\" name=\"us-gaap:ShareBasedCompensationArrangementByShareBasedPaymentAwardAwardRequisiteServicePeriod1\" id=\"Hidden_MwI9vniubUaVqtDplWzBDw\">P1Y</ix:nonNumeric><ix:nonFraction unitRef=\"Unit_Standard_pure_C_bj9fXCb0qRMr5YMSJzdQ\" contextRef=\"Duration_7_1_2020_To_6_30_2021_srt_TitleOfIndividualAxis_rgld_OfficersAndCertainEmployeesMember_us-gaap\n"
          ]
        }
      ],
      "source": [
        "print(text[1375:3284])"
      ]
    },
    {
      "cell_type": "markdown",
      "metadata": {
        "id": "OcefuRKgAUI8"
      },
      "source": [
        "Wow! We're able to pull in the document, but it's really messy.\n",
        "To help, we'll apply Unstructured Bricks to extract the information we're most interested in. Ultimately, we want to be able to ask the API\n",
        "for a section and get back the narrative text within that section like the JSON file below. Once\n",
        "we extract the narrative text, we can spin up a labeling task or send\n",
        "it to a downstream ML service for inference."
      ]
    },
    {
      "cell_type": "markdown",
      "metadata": {
        "id": "k0t_hxjHDVVz"
      },
      "source": [
        "```json\n",
        "[\n",
        "  {\n",
        "    \"text\": \"You should carefully consider the risks described in this section. Our future performance is subject to risks and uncertainties that could have a material adverse effect on our business, results of operations, and financial condition and the trading price of our common stock. We may be subject to other risks and uncertainties not presently known to us. In addition, please see our note about forward-looking statements included in the MD&A.\",\n",
        "    \"type\": \"NarrativeText\"\n",
        "  },\n",
        "  {\n",
        "    \"text\": \"Our revenue is subject to volatility in metal prices, which could negatively affect our results of operations or cash flow.\",\n",
        "    \"type\": \"NarrativeText\"\n",
        "  },\n",
        "  {\n",
        "    \"text\": \"Market prices for gold, silver, copper, nickel, and other metals may fluctuate widely over time and are affected by numerous factors beyond our control. These factors include metal supply and demand, industrial and jewelry fabrication, investment demand, central banking actions, inflation expectations, currency values, interest rates, forward sales by metal producers, and political, trade, economic, or banking conditions.\",\n",
        "    \"type\": \"NarrativeText\"\n",
        "  },\n",
        "```"
      ]
    },
    {
      "cell_type": "markdown",
      "metadata": {
        "id": "Fny8vhq7Jarr"
      },
      "source": [
        "## Section 2: Reading the Document <a name=\"reading\"></a>"
      ]
    },
    {
      "cell_type": "markdown",
      "metadata": {
        "id": "wsTpo97fGUoC"
      },
      "source": [
        "The first step is to identify and categorize text elements within the\n",
        "document. When we get the SEC document from EDGAR, it is in `.xml` format. Like most text documents, XML documents contains text data we're\n",
        "interested along with other information that we'd like to discard. In\n",
        "an XML or HTML document, that could be styling or formatting tags.\n",
        "Other document types, like PDFs, might have headers, footers, and page\n",
        "numbers we're not interested in.\n",
        "\n",
        "To help with this, Unstructured has created a library of\n",
        "***partitioning bricks*** to break down a document into coherent chunks.\n",
        "Different document types have different partitioning methods. For HTML\n",
        "or XML documents, we identify sections based on text tags and use\n",
        "NLP to differentiate between titles, narrative text, and other section\n",
        "types. For PDF documents, we use visual clues such as the layout of the\n",
        "document."
      ]
    },
    {
      "cell_type": "code",
      "execution_count": null,
      "metadata": {
        "id": "sEePJpuQDRyO"
      },
      "outputs": [],
      "source": [
        "from unstructured.documents.html import HTMLDocument\n",
        "\n",
        "html_document = HTMLDocument.from_string(text).doc_after_cleaners(skip_headers_and_footers=True, skip_table_text=True)"
      ]
    },
    {
      "cell_type": "markdown",
      "metadata": {
        "id": "z73PJ3cPG135"
      },
      "source": [
        "Here, we see that the `HTMLDocument` Brick was able to extract\n",
        "text from the raw source XML document. This is a generic\n",
        "`HTMLDocument` class that does not have any special knowledge about\n",
        "the structure of EDGAR documents."
      ]
    },
    {
      "cell_type": "code",
      "execution_count": null,
      "metadata": {
        "colab": {
          "base_uri": "https://localhost:8080/"
        },
        "id": "8wiVw7wpAU3a",
        "outputId": "dc152bdd-3d71-4d40-f94d-e2be5290e6fd"
      },
      "outputs": [
        {
          "output_type": "stream",
          "name": "stdout",
          "text": [
            "Acquisition and Management of Stream Interests—A metal stream is a purchase agreement that provides, in exchange for an upfront deposit payment, the right to purchase all or a portion of one or more metals produced from a mine, at a price determined for the life of the transaction by the purchase agreement. As of June 30, 2021, we owned eight stream interests, which are on six producing properties and two development stage properties. Our stream interests accounted for approximately 69% and 72% of our total revenue for each of the fiscal years ended June 30, 2021, and 2020, respectively. We expect stream interests to represent a significant portion of our total revenue.\n",
            "\n",
            "\n",
            "Acquisition and Management of Royalty Interests—Royalties are non-operating interests in mining projects that provide the right to a percentage of revenue or metals produced from the project after deducting specified costs, if any. As of June 30, 2021, we owned royalty interests on 35 producing properties, 15 development stage properties and 129 exploration stage properties, of which we consider 50 to be evaluation stage projects. We use “evaluation stage” to describe exploration stage properties that contain mineralized material and on which\n",
            "\n",
            "\n",
            "Table of Contents\n",
            "\n",
            "\n",
            "Our long-lived assets (stream and royalty interests, net) are geographically distributed as shown in the following table (amounts are in thousands):\n",
            "\n",
            "\n"
          ]
        }
      ],
      "source": [
        "for element in html_document.pages[0].elements[71:75]:\n",
        "    print(element)\n",
        "    print(\"\\n\")"
      ]
    },
    {
      "cell_type": "markdown",
      "metadata": {
        "id": "hF7c0AAgG4FG"
      },
      "source": [
        "Internally, the sections of text are represented using `Title` and\n",
        "`NarrativeText` classes, as shown below. Bricks that are executed while\n",
        "processing the document distinguish titles from narrative text."
      ]
    },
    {
      "cell_type": "code",
      "execution_count": null,
      "metadata": {
        "colab": {
          "base_uri": "https://localhost:8080/"
        },
        "id": "fHRUdAzfG8ac",
        "outputId": "a9ad2e7b-2497-47e2-fef1-cea2515478b1"
      },
      "outputs": [
        {
          "output_type": "execute_result",
          "data": {
            "text/plain": [
              "[<unstructured.documents.html.HTMLListItem at 0x7f9f53d2e190>,\n",
              " <unstructured.documents.html.HTMLListItem at 0x7f9f53d2e100>,\n",
              " <unstructured.documents.html.HTMLTitle at 0x7f9f53d2e1c0>,\n",
              " <unstructured.documents.html.HTMLNarrativeText at 0x7f9f53d2e310>]"
            ]
          },
          "metadata": {},
          "execution_count": 8
        }
      ],
      "source": [
        "html_document.pages[0].elements[71:75]"
      ]
    },
    {
      "cell_type": "markdown",
      "metadata": {
        "id": "ZBukZIBTHCkb"
      },
      "source": [
        "Below, we show Bricks identifying possible titles and narrative text\n",
        "sections. `\"Regulation\"` is identified as a title and not narrative text\n",
        "because it is short and does not contain any verbs. Conversely, longer\n",
        "sections with multiple, complex sentences are identified as narrative."
      ]
    },
    {
      "cell_type": "code",
      "execution_count": null,
      "metadata": {
        "colab": {
          "base_uri": "https://localhost:8080/"
        },
        "id": "M319zxBiHDAo",
        "outputId": "a40ada0c-1c54-4165-84a0-2373b3974a0d"
      },
      "outputs": [
        {
          "output_type": "execute_result",
          "data": {
            "text/plain": [
              "True"
            ]
          },
          "metadata": {},
          "execution_count": 9
        }
      ],
      "source": [
        "from unstructured.nlp.partition import is_possible_title\n",
        "\n",
        "is_possible_title(\"Regulation\")"
      ]
    },
    {
      "cell_type": "code",
      "execution_count": null,
      "metadata": {
        "colab": {
          "base_uri": "https://localhost:8080/"
        },
        "id": "vs_V3Lh9HWOn",
        "outputId": "2342e47e-31ce-4e09-e8f6-40121981ab47"
      },
      "outputs": [
        {
          "output_type": "execute_result",
          "data": {
            "text/plain": [
              "False"
            ]
          },
          "metadata": {},
          "execution_count": 10
        }
      ],
      "source": [
        "is_possible_title(\"\"\"Operators of the mines that are subject to our\n",
        "stream and royalty interests must comply with numerous environmental,\n",
        "mine safety, land use, waste disposal, remediation and public health\n",
        "laws and regulations promulgated by federal, state, provincial and\n",
        "local governments in the United States, Canada, Chile, the Dominican\n",
        "Republic, Ghana, Mexico, Botswana, Australia and other countries where\n",
        "we hold interests. Although we, as a stream or royalty interest owner,\n",
        "are not\"\"\")"
      ]
    },
    {
      "cell_type": "code",
      "execution_count": null,
      "metadata": {
        "colab": {
          "base_uri": "https://localhost:8080/"
        },
        "id": "oWxSMR5PHXWt",
        "outputId": "fcbaf424-ac5a-4379-f6fd-80c95c4a540f"
      },
      "outputs": [
        {
          "output_type": "execute_result",
          "data": {
            "text/plain": [
              "False"
            ]
          },
          "metadata": {},
          "execution_count": 11
        }
      ],
      "source": [
        "from unstructured.nlp.partition import is_possible_narrative_text\n",
        "\n",
        "is_possible_narrative_text(\"Regulation\")"
      ]
    },
    {
      "cell_type": "code",
      "execution_count": null,
      "metadata": {
        "colab": {
          "base_uri": "https://localhost:8080/"
        },
        "id": "l3NkMnQtHZkY",
        "outputId": "2407f156-42ca-411d-eb11-a815b7dd0208"
      },
      "outputs": [
        {
          "output_type": "execute_result",
          "data": {
            "text/plain": [
              "True"
            ]
          },
          "metadata": {},
          "execution_count": 12
        }
      ],
      "source": [
        "is_possible_narrative_text(\"\"\"Operators of the mines that are subject to our\n",
        "stream and royalty interests must comply with numerous environmental,\n",
        "mine safety, land use, waste disposal, remediation and public health\n",
        "laws and regulations promulgated by federal, state, provincial and\n",
        "local governments in the United States, Canada, Chile, the Dominican\n",
        "Republic, Ghana, Mexico, Botswana, Australia and other countries where\n",
        "we hold interests. Although we, as a stream or royalty interest owner,\n",
        "are not\"\"\")"
      ]
    },
    {
      "cell_type": "markdown",
      "metadata": {
        "id": "voC8E9I9HTd-"
      },
      "source": [
        "## Section 3: Custom Partitioning Bricks <a name=\"custom\"></a>"
      ]
    },
    {
      "cell_type": "markdown",
      "metadata": {
        "id": "KdQki5fRHiJ6"
      },
      "source": [
        "In addition to the partitioning bricks Unstructured provides out of the\n",
        "box, a given recipe may require custom partitioning bricks. In this case,\n",
        "we're interested in identifying sections within the SEC filing. To\n",
        "support that, we'll create a custom partitioning brick to identify\n",
        "section titles. This will help distinguish section headings from sub-headings."
      ]
    },
    {
      "cell_type": "code",
      "execution_count": null,
      "metadata": {
        "id": "skM7eRBCHhew"
      },
      "outputs": [],
      "source": [
        "import re\n",
        "from unstructured.documents.elements import Title"
      ]
    },
    {
      "cell_type": "code",
      "execution_count": null,
      "metadata": {
        "id": "2moIWiylHljS"
      },
      "outputs": [],
      "source": [
        "ITEM_TITLE_RE = re.compile(\n",
        "    r\"(?i)item \\d{1,3}(?:[a-z]|\\([a-z]\\))?(?:\\.)?(?::)?\"\n",
        ")"
      ]
    },
    {
      "cell_type": "code",
      "execution_count": null,
      "metadata": {
        "id": "n-tmTMZMHpU3"
      },
      "outputs": [],
      "source": [
        "def is_10k_item_title(title: str) -> bool:\n",
        "    \"\"\"Determines if a title corresponds to a 10-K item heading.\"\"\"\n",
        "    return ITEM_TITLE_RE.match(title) is not None"
      ]
    },
    {
      "cell_type": "markdown",
      "metadata": {
        "id": "uUy4Og3sHsMh"
      },
      "source": [
        "This is looking pretty good! Those all look like the section headings\n",
        "we're looking for. But wait, it seems like a few might be missing? It\n",
        "turns out some of the titles contain extra whitespace characters. As a\n",
        "result, they are not captured by the regex. Fortunately, Unstructured\n",
        "has tools to help with that, which we'll cover in the next section."
      ]
    },
    {
      "cell_type": "code",
      "execution_count": null,
      "metadata": {
        "colab": {
          "base_uri": "https://localhost:8080/"
        },
        "id": "RzSeAGZ1Hvt5",
        "outputId": "08b9bd5f-2811-485d-f8a2-7f41dd693912"
      },
      "outputs": [
        {
          "output_type": "stream",
          "name": "stdout",
          "text": [
            "ITEM 1A. RISK FACTORS\n",
            "ITEM 16.    FORM 10-K SUMMARY\n"
          ]
        }
      ],
      "source": [
        "for element in html_document.elements:\n",
        "    if isinstance(element, Title) and is_10k_item_title(element.text):\n",
        "        print(element)"
      ]
    },
    {
      "cell_type": "markdown",
      "metadata": {
        "id": "KQpvOGFHHwSk"
      },
      "source": [
        "## Section 4: Cleaning Bricks <a name=\"cleaning\"></a>"
      ]
    },
    {
      "cell_type": "markdown",
      "metadata": {
        "id": "--of6-WIH2R0"
      },
      "source": [
        "In addition to partitioning bricks, the Unstructured library has\n",
        "***cleaning*** bricks for removing unwanted content from text. In this\n",
        "case, we'll solve our whitespace problem by using the\n",
        "`clean_extra_whitespace` brick. Other uses for cleaning bricks include\n",
        "cleaning out boilerplate, sentence fragments, and other segments\n",
        "of text that could impact labeling tasks or the accuracy of\n",
        "machine learning models. As with partitioning bricks, users can\n",
        "include custom cleaning bricks in a pipeline."
      ]
    },
    {
      "cell_type": "code",
      "execution_count": null,
      "metadata": {
        "id": "M00gBZh-HzOt"
      },
      "outputs": [],
      "source": [
        "from unstructured.cleaners.core import clean_extra_whitespace"
      ]
    },
    {
      "cell_type": "code",
      "execution_count": null,
      "metadata": {
        "colab": {
          "base_uri": "https://localhost:8080/"
        },
        "id": "6_bH9MA3H6Q6",
        "outputId": "fe85f8f9-44a1-4971-c8f3-7c3da0d09b21"
      },
      "outputs": [
        {
          "output_type": "stream",
          "name": "stdout",
          "text": [
            "ITEM 1. BUSINESS\n",
            "ITEM 1A. RISK FACTORS\n",
            "ITEM 1B. UNRESOLVED STAFF COMMENTS\n",
            "ITEM 2. PROPERTIES\n",
            "ITEM 3. LEGAL PROCEEDINGS\n",
            "ITEM 4. MINE SAFETY DISCLOSURE\n",
            "ITEM 7A. QUANTITATIVE AND QUALITATIVE DISCLOSURE ABOUT MARKET RISK\n",
            "ITEM 8. FINANCIAL STATEMENTS AND SUPPLEMENTARY DATA\n",
            "ITEM 9. CHANGES IN AND DISAGREEMENTS WITH ACCOUNTANTS ON ACCOUNTING AND FINANCIAL DISCLOSURE\n",
            "ITEM 9A. CONTROLS AND PROCEDURES\n",
            "ITEM 9B. OTHER INFORMATION\n",
            "ITEM 10. DIRECTORS, EXECUTIVE OFFICERS AND CORPORATE GOVERNANCE\n",
            "ITEM 11. EXECUTIVE COMPENSATION\n",
            "ITEM 13. CERTAIN RELATIONSHIPS AND RELATED TRANSACTIONS AND DIRECTOR INDEPENDENCE\n",
            "ITEM 14. PRINCIPAL ACCOUNTANT FEES AND SERVICES\n",
            "ITEM 15. EXHIBITS AND FINANCIAL STATEMENT SCHEDULES\n",
            "ITEM 16. FORM 10-K SUMMARY\n"
          ]
        }
      ],
      "source": [
        "titles = []\n",
        "for element in html_document.elements:\n",
        "    element.text = clean_extra_whitespace(element.text)\n",
        "    if isinstance(element, Title) and is_10k_item_title(element.text):\n",
        "        titles.append(element)\n",
        "        print(element)"
      ]
    },
    {
      "cell_type": "code",
      "source": [
        "for i, el in enumerate(html_document.elements):\n",
        "  if el.id == titles[0].id:\n",
        "    break\n",
        "first_title_index = i\n",
        "for i in range(first_title_index, first_title_index+10):\n",
        "  print(html_document.elements[i])"
      ],
      "metadata": {
        "colab": {
          "base_uri": "https://localhost:8080/"
        },
        "id": "WQsS62Mdn9yF",
        "outputId": "65722328-eb20-4395-ad26-4522d96f8c1a"
      },
      "execution_count": null,
      "outputs": [
        {
          "output_type": "stream",
          "name": "stdout",
          "text": [
            "ITEM 1. BUSINESS\n",
            "Overview\n",
            "We acquire and manage precious metal streams, royalties, and similar interests. We seek to acquire existing stream and royalty interests or to finance projects that are in production or in the development stage in exchange for stream or royalty interests. We do not conduct mining operations on the properties in which we hold stream and royalty interests and are not required to contribute to capital costs, environmental costs, or other operating costs on the properties. Please refer to Item 2, Properties, for a discussion of the developments at our principal properties.\n",
            "In the ordinary course of business, we engage in a continual review of opportunities to acquire existing stream and royalty interests, to establish new stream and royalty interests on operating mines, to create new stream and royalty interests through the financing of mine development or exploration, or to acquire companies that hold stream and royalty interests. We currently, and generally at any time, have acquisition opportunities in various stages of active review, including, for example, our engagement of consultants and advisors to analyze particular opportunities, our analysis of technical, financial, legal and other confidential information of particular opportunities, submission of indications of interest and term sheets, participation in preliminary discussions and negotiations and involvement as a bidder in competitive processes.\n",
            "As discussed in further detail throughout this report, some key takeaways and developments for our business since the beginning of fiscal year 2021 were as follows:\n",
            "We had record revenue of $615.9 million during fiscal year 2021, compared to $498.8 million during fiscal year 2020. This was a 23% increase year over year.\n",
            "We increased our calendar year dividend to $1.20 per basic share, which is paid in quarterly installments throughout calendar year 2021. This represents a 7% increase compared with the dividend paid during calendar year 2020.\n",
            "On September 30, 2020, we announced we had entered into an agreement with Kinross Gold Corporation to sell our interest in the Manh Choh Project (formerly known as the Peak Gold Project) and our common share position in Contango Ore, Inc., our partner in Peak Gold, LLC, the owner of the Manh Choh Project. Consideration received for the sale of these interests included cash of $61.3 million and certain net smelter return royalties.\n",
            "Table of Contents\n",
            "On October 1, 2020, we announced the separation of the Wassa and Prestea and Bogoso gold stream agreement into separate stream agreements effective September 30, 2020. For more information, see Item 7, Management’s Discussion and Analysis of Financial Condition and Results of Operations.\n"
          ]
        }
      ]
    },
    {
      "cell_type": "code",
      "source": [
        "{type(el) for el in html_document.elements}"
      ],
      "metadata": {
        "colab": {
          "base_uri": "https://localhost:8080/"
        },
        "id": "hS3p3PaosxQY",
        "outputId": "abbd1b9d-a107-4c23-c410-3505c2da0641"
      },
      "execution_count": null,
      "outputs": [
        {
          "output_type": "execute_result",
          "data": {
            "text/plain": [
              "{unstructured.documents.html.HTMLListItem,\n",
              " unstructured.documents.html.HTMLNarrativeText,\n",
              " unstructured.documents.html.HTMLText,\n",
              " unstructured.documents.html.HTMLTitle}"
            ]
          },
          "metadata": {},
          "execution_count": 21
        }
      ]
    },
    {
      "cell_type": "code",
      "source": [
        "from unstructured.documents.html import HTMLListItem\n",
        "for i, el in enumerate(html_document.elements):\n",
        "  if isinstance(el, HTMLListItem):\n",
        "    break\n",
        "first_list_item_idx = i\n",
        "for i in range(first_list_item_idx-1, first_list_item_idx+10):\n",
        "  print(html_document.elements[i], type(html_document.elements[i]))"
      ],
      "metadata": {
        "colab": {
          "base_uri": "https://localhost:8080/"
        },
        "id": "0XsDdYsIs8Ww",
        "outputId": "a3c9e303-9dcd-4701-e425-8afde60fcdeb"
      },
      "execution_count": null,
      "outputs": [
        {
          "output_type": "stream",
          "name": "stdout",
          "text": [
            "As discussed in further detail throughout this report, some key takeaways and developments for our business since the beginning of fiscal year 2021 were as follows: <class 'unstructured.documents.html.HTMLNarrativeText'>\n",
            "We had record revenue of $615.9 million during fiscal year 2021, compared to $498.8 million during fiscal year 2020. This was a 23% increase year over year. <class 'unstructured.documents.html.HTMLListItem'>\n",
            "We increased our calendar year dividend to $1.20 per basic share, which is paid in quarterly installments throughout calendar year 2021. This represents a 7% increase compared with the dividend paid during calendar year 2020. <class 'unstructured.documents.html.HTMLListItem'>\n",
            "On September 30, 2020, we announced we had entered into an agreement with Kinross Gold Corporation to sell our interest in the Manh Choh Project (formerly known as the Peak Gold Project) and our common share position in Contango Ore, Inc., our partner in Peak Gold, LLC, the owner of the Manh Choh Project. Consideration received for the sale of these interests included cash of $61.3 million and certain net smelter return royalties. <class 'unstructured.documents.html.HTMLListItem'>\n",
            "Table of Contents <class 'unstructured.documents.html.HTMLTitle'>\n",
            "On October 1, 2020, we announced the separation of the Wassa and Prestea and Bogoso gold stream agreement into separate stream agreements effective September 30, 2020. For more information, see Item 7, Management’s Discussion and Analysis of Financial Condition and Results of Operations. <class 'unstructured.documents.html.HTMLListItem'>\n",
            "On January 6, 2021, we made the sixth advance payment of $32.6 million toward the Khoemacau Project silver stream. With this payment, we have completed the total $212 million advance payment required to earn the base silver stream of 80% of payable silver from Khoemacau until the delivery of 32.0 million ounces, and 40% thereafter. A seventh advance payment of $10.6 million was made toward the option silver stream on April 7, 2021, and as of that date, we hold the right to purchase 84% of the payable silver from Khoemacau until the delivery of approximately 33.6 million ounces of silver, and 42% thereafter. <class 'unstructured.documents.html.HTMLListItem'>\n",
            "On June 7, 2021, we acquired a 1.0% net smelter return royalty on production from mining claims that comprise a portion of the Côté Gold open pit project located in Ontario, Canada from a third-party for $75 million in cash consideration. <class 'unstructured.documents.html.HTMLListItem'>\n",
            "On June 30, 2021, we announced we had entered into a precious metals purchase agreement with Ero Gold Corp, a wholly-owned subsidiary of Ero Copper Corp. (together “Ero”), to acquire a gold stream interest in their NX Gold mine in Brazil for $100 million in cash consideration, with further payments of up to $10 million in cash depending on defined success-based targets. This transaction closed on August 6, 2021. <class 'unstructured.documents.html.HTMLListItem'>\n",
            "On August 9, 2021, our board of directors approved a change in our fiscal year end from June 30 to December 31 effective as of December 31, 2021. As a result, we expect to file a Transitional Report on Form 10-KT in early 2022 for the six-month stub period from July 1, 2021, to December 31, 2021. <class 'unstructured.documents.html.HTMLListItem'>\n",
            "On August 11, 2021, we acquired a 1.0% net smelter return royalty covering approximately 5,100 hectares which include the currently known mineralization and prospective exploration areas of the Red Chris Mine in British Columbia, Canada. We paid $165 million in cash consideration for the royalty to Glencore Canada Corporation, a wholly owned subsidiary of Glencore International AG. The Red Chris Mine is an operating open pit mine producing gold, copper and silver, and is located on the northern edge of the Skeena Mountains. <class 'unstructured.documents.html.HTMLListItem'>\n"
          ]
        }
      ]
    },
    {
      "cell_type": "markdown",
      "metadata": {
        "id": "srD5Ivt5ICmz"
      },
      "source": [
        "After applying the cleaning brick, we have a good looking list of\n",
        "section titles! With our set of bricks in place, we have what we\n",
        "need to identify the risk section. For convenience, we've packaged them\n",
        "up in the `SECDocument` class in the Python module for the pipeline. Notice\n",
        "we include the `# pipeline-api` comment to include the `SECDocument`\n",
        "import in the pipeline definition. Applying the full pipeline, we're\n",
        "able to cleanly extract the risk narrative portion of the SEC filing.\n",
        "The function is parameterized so we're easily able to get other sections\n",
        "as well."
      ]
    },
    {
      "cell_type": "code",
      "execution_count": null,
      "metadata": {
        "id": "huNEpmsmIBDa"
      },
      "outputs": [],
      "source": [
        "# pipeline-api\n",
        "from prepline_sec_filings.sections import section_string_to_enum, validate_section_names, SECSection\n",
        "from prepline_sec_filings.sec_document import SECDocument, REPORT_TYPES, VALID_FILING_TYPES"
      ]
    },
    {
      "cell_type": "code",
      "execution_count": null,
      "metadata": {
        "id": "LE506Rs6H9Q6"
      },
      "outputs": [],
      "source": [
        "sec_document = SECDocument.from_string(text)\n",
        "risk_narrative = sec_document.get_section_narrative(SECSection.RISK_FACTORS)"
      ]
    },
    {
      "cell_type": "code",
      "execution_count": null,
      "metadata": {
        "colab": {
          "base_uri": "https://localhost:8080/"
        },
        "id": "Q1-odS7VIIqj",
        "outputId": "e41e22ce-1601-4a16-ecd8-d5f180104b50"
      },
      "outputs": [
        {
          "output_type": "stream",
          "name": "stdout",
          "text": [
            "You should carefully consider the risks described in this section. Our future performance is subject to risks and uncertainties that could have a material adverse effect on our business, results of operations, and financial condition and the trading price of our common stock. We may be subject to other risks and uncertainties not presently known to us. In addition, please see our note about forward-looking statements included in the MD&A.\n",
            "\n",
            "\n",
            "Our revenue is subject to volatility in metal prices, which could negatively affect our results of operations or cash flow.\n",
            "\n",
            "\n",
            "Market prices for gold, silver, copper, nickel, and other metals may fluctuate widely over time and are affected by numerous factors beyond our control. These factors include metal supply and demand, industrial and jewelry fabrication, investment demand, central banking actions, inflation expectations, currency values, interest rates, forward sales by metal producers, and political, trade, economic, or banking conditions.\n",
            "\n",
            "\n"
          ]
        }
      ],
      "source": [
        "for element in risk_narrative[:3]:\n",
        "    print(element)\n",
        "    print(\"\\n\")"
      ]
    },
    {
      "cell_type": "markdown",
      "metadata": {
        "id": "uqcs-MJGINiM"
      },
      "source": [
        "## Section 5: Staging Bricks <a name=\"staging\"></a>"
      ]
    },
    {
      "cell_type": "markdown",
      "metadata": {
        "id": "RNRlK-EtIP7V"
      },
      "source": [
        "After we've extracted the information we want, the next step is to\n",
        "prepare the data for downstream tasks. This can include preparation\n",
        "to:\n",
        "\n",
        "- Feed the data into a downstream ML model\n",
        "- Convert the data into a labeling task\n",
        "- Upload the data into a database\n",
        "\n",
        "To help with this, Unstructured has created ***staging bricks***\n",
        "that preparing extracted data for downstream tasks. In this case,\n",
        "we'll show how to format the data so that it can be easily\n",
        "uploaded into LabelStudio as a labeling task. Other future uses cases include:\n",
        "\n",
        "- Preparing data for downstream inference by Primer, Co:here, or Vannevar\n",
        "- Chunking text to fit into attention windows for Huggingface\n",
        "- Uploading data to Palantir Foundry"
      ]
    },
    {
      "cell_type": "code",
      "execution_count": null,
      "metadata": {
        "id": "UliL5XmtIL_w"
      },
      "outputs": [],
      "source": [
        "from unstructured.staging.label_studio import stage_for_label_studio"
      ]
    },
    {
      "cell_type": "code",
      "execution_count": null,
      "metadata": {
        "colab": {
          "base_uri": "https://localhost:8080/"
        },
        "id": "mySlQj1WIScW",
        "outputId": "dfffa2c8-fe23-4cfd-e5ae-7ddd50e6f63f"
      },
      "outputs": [
        {
          "output_type": "execute_result",
          "data": {
            "text/plain": [
              "[{'data': {'text': 'You should carefully consider the risks described in this section. Our future performance is subject to risks and uncertainties that could have a material adverse effect on our business, results of operations, and financial condition and the trading price of our common stock. We may be subject to other risks and uncertainties not presently known to us. In addition, please see our note about forward-looking statements included in the MD&A.',\n",
              "   'ref_id': '7a912bb639b547404be4ceaf5d9083a9'}},\n",
              " {'data': {'text': 'Our revenue is subject to volatility in metal prices, which could negatively affect our results of operations or cash flow.',\n",
              "   'ref_id': 'd4cc8e0e0c2b68ef69282c5250b721c9'}},\n",
              " {'data': {'text': 'Market prices for gold, silver, copper, nickel, and other metals may fluctuate widely over time and are affected by numerous factors beyond our control. These factors include metal supply and demand, industrial and jewelry fabrication, investment demand, central banking actions, inflation expectations, currency values, interest rates, forward sales by metal producers, and political, trade, economic, or banking conditions.',\n",
              "   'ref_id': '96515fdbe9e0c547a557c2fe30137176'}},\n",
              " {'data': {'text': 'Our revenue is directly tied to metal prices and is particularly sensitive to changes in the price of gold, as we derive a majority of our revenue from gold stream and royalty interests. Under our stream agreements, we purchase metal at a fixed price or a stated percentage of the market price and then sell the metal in the open market. If market prices decline, our revenue and cash flow from metal sales decline. A price decline can also impact our revenue under certain sliding-scale royalty agreements as we may receive a lower royalty rate when prices fall below specified thresholds. In addition, some',\n",
              "   'ref_id': '29f82037f1e3bf53caf85af1a87aa539'}},\n",
              " {'data': {'text': 'of our royalty agreements are based on the operator’s concentrate sales to smelters and allow for price adjustments between the operator and the smelter based on metals prices on a future date, typically three to five months after shipment of concentrate. These price adjustments can decrease our revenue in future periods if metal prices decline following shipment.',\n",
              "   'ref_id': 'f80f60dd8411ce334de241dc3088f331'}}]"
            ]
          },
          "metadata": {},
          "execution_count": 31
        }
      ],
      "source": [
        "label_studio_data = stage_for_label_studio(risk_narrative)\n",
        "label_studio_data[:5]"
      ]
    },
    {
      "cell_type": "markdown",
      "metadata": {
        "id": "u8zoSjigIXV9"
      },
      "source": [
        "## Section 6: Define the Pipeline API <a name=\"pipeline\"></a>"
      ]
    },
    {
      "cell_type": "markdown",
      "metadata": {
        "id": "usvGCWyjIZVO"
      },
      "source": [
        "Once we have everything ready to go, we can package up the pipeline API\n",
        "using the `# pipeline-api` comment. Unstructured has tooling that will\n",
        "convert this notebook directly into a REST API. By convention, the REST\n",
        "API calls the `pipeline_api` function when the API is invoked.\n",
        "Once the REST API is up and running, users can make an HTTP request\n",
        "to parse new documents."
      ]
    },
    {
      "cell_type": "code",
      "execution_count": null,
      "metadata": {
        "id": "-isjnYOJIbBT"
      },
      "outputs": [],
      "source": [
        "# pipeline-api\n",
        "from enum import Enum\n",
        "import re\n",
        "import signal\n",
        "\n",
        "from unstructured.staging.base import convert_to_isd\n",
        "from prepline_sec_filings.sections import (\n",
        "    ALL_SECTIONS,\n",
        "    SECTIONS_10K,\n",
        "    SECTIONS_10Q,\n",
        "    SECTIONS_S1,\n",
        ")"
      ]
    },
    {
      "cell_type": "code",
      "execution_count": null,
      "metadata": {
        "id": "1J3YSmIIIdEE"
      },
      "outputs": [],
      "source": [
        "# pipeline-api\n",
        "class timeout:\n",
        "    def __init__(self, seconds=1, error_message='Timeout'):\n",
        "        self.seconds = seconds\n",
        "        self.error_message = error_message\n",
        "    def handle_timeout(self, signum, frame):\n",
        "        raise TimeoutError(self.error_message)\n",
        "    def __enter__(self):\n",
        "        try:\n",
        "            signal.signal(signal.SIGALRM, self.handle_timeout)\n",
        "            signal.alarm(self.seconds)\n",
        "        except ValueError:\n",
        "            pass\n",
        "    def __exit__(self, type, value, traceback):\n",
        "        try:\n",
        "            signal.alarm(0)\n",
        "        except ValueError:\n",
        "            pass"
      ]
    },
    {
      "cell_type": "code",
      "execution_count": null,
      "metadata": {
        "id": "6NPbas5vId54"
      },
      "outputs": [],
      "source": [
        "# pipeline-api\n",
        "def get_regex_enum(section_regex):\n",
        "    class CustomSECSection(Enum):\n",
        "        CUSTOM = re.compile(section_regex)\n",
        "\n",
        "        @property\n",
        "        def pattern(self):\n",
        "            return self.value\n",
        "\n",
        "    return CustomSECSection.CUSTOM"
      ]
    },
    {
      "cell_type": "code",
      "execution_count": null,
      "metadata": {
        "id": "5qGEaRdzIgC1"
      },
      "outputs": [],
      "source": [
        "# pipeline-api\n",
        "def pipeline_api(text, m_section=[], m_section_regex=[]):\n",
        "    \"\"\"Many supported sections including: RISK_FACTORS, MANAGEMENT_DISCUSSION, and many more\"\"\"\n",
        "    validate_section_names(m_section)\n",
        "\n",
        "    sec_document = SECDocument.from_string(text)\n",
        "    if sec_document.filing_type not in VALID_FILING_TYPES:\n",
        "        raise ValueError(\n",
        "            f\"SEC document filing type {sec_document.filing_type} is not supported, \"\n",
        "            f\"must be one of {','.join(VALID_FILING_TYPES)}\"\n",
        "        )\n",
        "    results = {}\n",
        "    if m_section == [ALL_SECTIONS]:\n",
        "        filing_type = sec_document.filing_type\n",
        "        if filing_type in REPORT_TYPES:\n",
        "            if filing_type.startswith(\"10-K\"):\n",
        "                m_section = [enum.name for enum in SECTIONS_10K]\n",
        "            elif filing_type.startswith(\"10-Q\"):\n",
        "                m_section = [enum.name for enum in SECTIONS_10Q]\n",
        "            else:\n",
        "                raise ValueError(f\"Invalid report type: {filing_type}\")\n",
        "\n",
        "        else:\n",
        "            m_section = [enum.name for enum in SECTIONS_S1]\n",
        "    for section in m_section:\n",
        "        results[section] = sec_document.get_section_narrative(\n",
        "            section_string_to_enum[section]\n",
        "        )\n",
        "    for i, section_regex in enumerate(m_section_regex):\n",
        "        regex_enum = get_regex_enum(section_regex)\n",
        "        with timeout(seconds=5):\n",
        "            section_elements = sec_document.get_section_narrative(regex_enum)\n",
        "            results[f\"REGEX_{i}\"] = section_elements\n",
        "    return {section:convert_to_isd(section_narrative) for section, section_narrative in results.items()}"
      ]
    },
    {
      "cell_type": "markdown",
      "metadata": {
        "id": "-knMHPcAIjmc"
      },
      "source": [
        "As we can see, the output now matches what we wanted at the beginning\n",
        "of the notebook."
      ]
    },
    {
      "cell_type": "code",
      "execution_count": null,
      "metadata": {
        "colab": {
          "base_uri": "https://localhost:8080/"
        },
        "id": "wZ-BLsM_IkQn",
        "outputId": "4dbe5610-6ed4-4a77-9c0e-8b8394551d6a"
      },
      "outputs": [
        {
          "output_type": "execute_result",
          "data": {
            "text/plain": [
              "[{'text': 'You should carefully consider the risks described in this section. Our future performance is subject to risks and uncertainties that could have a material adverse effect on our business, results of operations, and financial condition and the trading price of our common stock. We may be subject to other risks and uncertainties not presently known to us. In addition, please see our note about forward-looking statements included in the MD&A.',\n",
              "  'type': 'NarrativeText'},\n",
              " {'text': 'Our revenue is subject to volatility in metal prices, which could negatively affect our results of operations or cash flow.',\n",
              "  'type': 'NarrativeText'},\n",
              " {'text': 'Market prices for gold, silver, copper, nickel, and other metals may fluctuate widely over time and are affected by numerous factors beyond our control. These factors include metal supply and demand, industrial and jewelry fabrication, investment demand, central banking actions, inflation expectations, currency values, interest rates, forward sales by metal producers, and political, trade, economic, or banking conditions.',\n",
              "  'type': 'NarrativeText'},\n",
              " {'text': 'Our revenue is directly tied to metal prices and is particularly sensitive to changes in the price of gold, as we derive a majority of our revenue from gold stream and royalty interests. Under our stream agreements, we purchase metal at a fixed price or a stated percentage of the market price and then sell the metal in the open market. If market prices decline, our revenue and cash flow from metal sales decline. A price decline can also impact our revenue under certain sliding-scale royalty agreements as we may receive a lower royalty rate when prices fall below specified thresholds. In addition, some',\n",
              "  'type': 'NarrativeText'},\n",
              " {'text': 'of our royalty agreements are based on the operator’s concentrate sales to smelters and allow for price adjustments between the operator and the smelter based on metals prices on a future date, typically three to five months after shipment of concentrate. These price adjustments can decrease our revenue in future periods if metal prices decline following shipment.',\n",
              "  'type': 'NarrativeText'}]"
            ]
          },
          "metadata": {},
          "execution_count": 36
        }
      ],
      "source": [
        "risk_narrative = pipeline_api(text, [\"RISK_FACTORS\"])[\"RISK_FACTORS\"]\n",
        "risk_narrative[:5]"
      ]
    },
    {
      "cell_type": "code",
      "execution_count": null,
      "metadata": {
        "id": "iwlUnCoTItDB",
        "colab": {
          "base_uri": "https://localhost:8080/"
        },
        "outputId": "5743c596-42c0-4e98-f210-3a3dfdd8065a"
      },
      "outputs": [
        {
          "output_type": "stream",
          "name": "stdout",
          "text": [
            "BUSINESS\n",
            "[]\n",
            "---------------\n",
            "RISK_FACTORS\n",
            "[{'text': 'You should carefully consider the risks described in this section. Our future performance is subject to risks and uncertainties that could have a material adverse effect on our business, results of operations, and financial condition and the trading price of our common stock. We may be subject to other risks and uncertainties not presently known to us. In addition, please see our note about forward-looking statements included in the MD&A.', 'type': 'NarrativeText'}, {'text': 'Our revenue is subject to volatility in metal prices, which could negatively affect our results of operations or cash flow.', 'type': 'NarrativeText'}, {'text': 'Market prices for gold, silver, copper, nickel, and other metals may fluctuate widely over time and are affected by numerous factors beyond our control. These factors include metal supply and demand, industrial and jewelry fabrication, investment demand, central banking actions, inflation expectations, currency values, interest rates, forward sales by metal producers, and political, trade, economic, or banking conditions.', 'type': 'NarrativeText'}, {'text': 'Our revenue is directly tied to metal prices and is particularly sensitive to changes in the price of gold, as we derive a majority of our revenue from gold stream and royalty interests. Under our stream agreements, we purchase metal at a fixed price or a stated percentage of the market price and then sell the metal in the open market. If market prices decline, our revenue and cash flow from metal sales decline. A price decline can also impact our revenue under certain sliding-scale royalty agreements as we may receive a lower royalty rate when prices fall below specified thresholds. In addition, some', 'type': 'NarrativeText'}]\n",
            "---------------\n",
            "UNRESOLVED_STAFF_COMMENTS\n",
            "[]\n",
            "---------------\n",
            "PROPERTIES\n",
            "[{'text': 'We do not own or operate the properties on which we hold stream or royalty interests and therefore much of the information disclosed in this Form\\xa010-K regarding these properties is provided to us by the operators. For example, the operators of certain properties provide us information regarding metals production, estimates of mineral reserves and additional mineralized material and production estimates. A list of our producing and development stage streams and royalties, as well their respective reserves, are summarized in Table\\xa01 “Operators’ Estimated Proven and Probable Gold Reserves” below within this Item\\xa02. More information is available to the public regarding certain properties in which we have stream or royalty interests, including reports filed with the SEC or with the Canadian securities regulatory agencies available at www.sec.gov or www.sedar.com, respectively.', 'type': 'NarrativeText'}, {'text': 'We manage our business under two reportable segments, consisting of the acquisition and management of stream interests and the acquisition and management of royalty interests. The description of our principal stream and royalty interests set forth below includes the location, operator, stream or royalty rate, access and any material current developments at the property. For any reported production amounts discussed below, we consider reported production to relate to the amount of metal sales subject to our stream and royalty interests. Please refer to Item\\xa07, MD&A, for discussion on production estimates, historical production and revenue for our principal properties. The map below illustrates the location of our principal producing stage properties.', 'type': 'NarrativeText'}, {'text': 'In 2018, the SEC adopted amendments to the disclosure requirements for mining properties. Effective for fiscal years beginning on or after January 1, 2021, the disclosure requirements under SEC Industry Guide 7 have been replaced with new disclosure requirements under Regulation S-K Subpart 1300. The property and reserve disclosures as of June 30, 2021, contained in this report are presented in accordance with SEC Industry Guide 7. We expect that the property and reserve disclosures as of December 31, 2021, contained in our Transitional Report on Form 10-KT to be filed in early 2022 will be presented in accordance with Regulation S-K Subpart 1300.', 'type': 'NarrativeText'}, {'text': 'We consider both historical and future potential revenues to determine which stream and royalty interests in our portfolio are principal to our business. Estimated future potential revenues from producing properties are based on a number of factors, including reserves subject to our stream and royalty interests, production estimates, feasibility studies, technical reports, metal price assumptions, mine life, legal status and other factors and assumptions, any of which could change and could cause us to conclude that one or more of such stream and royalty interests are no longer principal to our business.', 'type': 'NarrativeText'}]\n",
            "---------------\n",
            "LEGAL_PROCEEDINGS\n",
            "[]\n",
            "---------------\n",
            "MINE_SAFETY\n",
            "[]\n",
            "---------------\n",
            "MARKET_FOR_REGISTRANT_COMMON_EQUITY\n",
            "[]\n",
            "---------------\n",
            "MANAGEMENT_DISCUSSION\n",
            "[{'text': 'A discussion of the changes in our financial condition and results of operations for the fiscal years ended June 30, 2020, and 2019, has been omitted from this report, but may be found in Item 7, MD&A, of our Annual Report on Form 10-K for the year ended June 30, 2020, filed with the SEC on August 6, 2020, which is available free of charge on the SEC’s website at www.sec.gov and our website at www.royalgold.com.', 'type': 'NarrativeText'}, {'text': 'We acquire and manage precious metal streams, royalties, and similar interests. We seek to acquire existing stream and royalty interests or finance projects that are in production or in the development stage in exchange for stream or royalty interests.', 'type': 'NarrativeText'}, {'text': 'We manage our business under two segments:', 'type': 'NarrativeText'}, {'text': 'Acquisition and Management of Stream Interests — A metal stream is a purchase agreement that provides, in exchange for an upfront deposit payment, the right to purchase all or a portion of one or more metals produced from a mine, at a price determined for the life of the transaction by the purchase agreement. As of June 30,\\xa02021, we owned eight stream interests, which are on six producing properties and two development stage properties. Stream interests accounted for 69% and 72% of our total revenue for the fiscal years ended June 30 2021, and 2020, respectively. We expect stream interests to continue representing a significant portion of our total revenue.', 'type': 'ListItem'}]\n",
            "---------------\n",
            "MARKET_RISK_DISCLOSURES\n",
            "[]\n",
            "---------------\n",
            "FINANCIAL_STATEMENTS\n",
            "[{'text': 'We have audited the accompanying consolidated balance sheets of Royal Gold, Inc. (the Company) as of June 30, 2021 and 2020, the related consolidated statements of operations and comprehensive income,\\xa0changes in equity and cash flows for each of the three years in the period ended June 30, 2021, and the related notes\\xa0(collectively referred to as the “consolidated financial statements”). In our opinion, the consolidated financial statements present fairly, in all material respects, the financial position of the Company at June 30, 2021 and 2020, and the results of its operations and its cash flows for each of the three years in the period ended June 30, 2021, in conformity with U.S. generally accepted accounting principles.', 'type': 'NarrativeText'}, {'text': \"We also have audited, in accordance with the standards of the Public Company Accounting Oversight Board (United States) (PCAOB), the Company's internal control over financial reporting as of June 30, 2021, based on criteria established in Internal Control-Integrated Framework issued by the Committee of Sponsoring Organizations of the Treadway Commission (2013 framework), and our report dated August 12, 2021 expressed an unqualified opinion thereon.\", 'type': 'NarrativeText'}, {'text': \"These financial statements are the responsibility of the Company's management. Our responsibility is to express an opinion on the Company’s financial statements based on our audits. We are a public accounting firm registered with the PCAOB and are required to be independent with respect to the Company in accordance with the U.S. federal securities laws and the applicable rules and regulations of the Securities and Exchange Commission and the PCAOB.\", 'type': 'NarrativeText'}, {'text': 'We conducted our audits in accordance with the standards of the PCAOB. Those standards require that we plan and perform the audit to obtain reasonable assurance about whether the financial statements are free of material misstatement, whether due to error or fraud. Our audits included performing procedures to assess the risks of material misstatement of the financial statements, whether due to error or fraud, and performing procedures that respond to those risks. Such procedures included examining, on a test basis, evidence regarding the amounts and disclosures in the financial statements. Our audits also included evaluating the accounting principles used and significant estimates made by management, as well as evaluating the overall presentation of the financial statements. We believe that our audits provide a reasonable basis for our opinion.', 'type': 'NarrativeText'}]\n",
            "---------------\n",
            "ACCOUNTING_DISAGREEMENTS\n",
            "[]\n",
            "---------------\n",
            "CONTROLS_AND_PROCEDURES\n",
            "[{'text': 'Under the supervision and with the participation of our management, including our Chief Executive Officer and Chief Financial Officer, we evaluated the effectiveness of the design and operation of our disclosure controls and procedures as of June 30, 2021. Based on this evaluation, our Chief Executive Officer and Chief Financial Officer have concluded that our disclosure controls and procedures were effective as of June 30, 2021, at the reasonable assurance level.', 'type': 'NarrativeText'}, {'text': 'Our management is responsible for establishing and maintaining adequate internal control over financial reporting. Our internal control over financial reporting is designed to provide reasonable assurance regarding the reliability of financial reporting and the preparation of financial statements for external purposes in accordance with generally accepted accounting principles.', 'type': 'NarrativeText'}, {'text': 'Management assessed the effectiveness of our internal control over financial reporting as of June\\xa030,\\xa02021. In making this assessment, management used the criteria set forth by the Committee of Sponsoring Organizations of the Treadway Commission (COSO) in Internal Control—Integrated Framework (2013 Framework). Based on management’s assessment and those criteria, management concluded that our internal control over financial reporting was effective as of June 30, 2021.', 'type': 'NarrativeText'}, {'text': 'Our independent registered public accounting firm, Ernst\\xa0& Young\\xa0LLP, has issued an attestation report on our internal control over financial reporting as of June\\xa030,\\xa02021.', 'type': 'NarrativeText'}]\n",
            "---------------\n",
            "FOREIGN_JURISDICTIONS\n",
            "[]\n",
            "---------------\n",
            "MANAGEMENT\n",
            "[{'text': 'A discussion of the changes in our financial condition and results of operations for the fiscal years ended June 30, 2020, and 2019, has been omitted from this report, but may be found in Item 7, MD&A, of our Annual Report on Form 10-K for the year ended June 30, 2020, filed with the SEC on August 6, 2020, which is available free of charge on the SEC’s website at www.sec.gov and our website at www.royalgold.com.', 'type': 'NarrativeText'}, {'text': 'We acquire and manage precious metal streams, royalties, and similar interests. We seek to acquire existing stream and royalty interests or finance projects that are in production or in the development stage in exchange for stream or royalty interests.', 'type': 'NarrativeText'}, {'text': 'We manage our business under two segments:', 'type': 'NarrativeText'}, {'text': 'Acquisition and Management of Stream Interests — A metal stream is a purchase agreement that provides, in exchange for an upfront deposit payment, the right to purchase all or a portion of one or more metals produced from a mine, at a price determined for the life of the transaction by the purchase agreement. As of June 30,\\xa02021, we owned eight stream interests, which are on six producing properties and two development stage properties. Stream interests accounted for 69% and 72% of our total revenue for the fiscal years ended June 30 2021, and 2020, respectively. We expect stream interests to continue representing a significant portion of our total revenue.', 'type': 'ListItem'}]\n",
            "---------------\n",
            "COMPENSATION\n",
            "[{'text': 'The information required by this item will be included in our proxy statement for our 2021 annual stockholders’ meeting to be filed with the SEC within 120\\xa0days after June\\xa030,\\xa02021, and is incorporated by reference into this report.', 'type': 'NarrativeText'}]\n",
            "---------------\n",
            "PRINCIPAL_STOCKHOLDERS\n",
            "[{'text': 'The information required by this item will be included in our proxy statement for our 2021 annual stockholders’ meeting to be filed with the SEC within 120\\xa0days after June\\xa030,\\xa02021, and is incorporated by reference into this report.', 'type': 'NarrativeText'}]\n",
            "---------------\n",
            "RELATED_PARTY_TRANSACTIONS\n",
            "[]\n",
            "---------------\n",
            "ACCOUNTING_FEES\n",
            "[]\n",
            "---------------\n",
            "EXHIBITS\n",
            "[{'text': 'Restated Certificate of Incorporation, as amended (filed as Exhibit\\xa03.1 to Royal Gold’s Quarterly Report on Form 10-Q filed on May 3, 2018, and incorporated herein by reference)', 'type': 'NarrativeText'}, {'text': 'Amended and Restated Bylaws, amended as of August 9, 2021 (filed as Exhibit\\xa03.1 to Royal Gold’s Current Report on Form\\xa08-K on August 11, 2021, and incorporated herein by reference)', 'type': 'NarrativeText'}, {'text': 'Amended and Restated Certificate of Designations of Series\\xa0A Junior Participating Preferred Stock of Royal Gold,\\xa0Inc. (filed as Exhibit\\xa03.1 to Royal Gold’s Current Report on Form\\xa08-K on September\\xa010, 2007, and incorporated herein by reference)', 'type': 'NarrativeText'}, {'text': 'Certificate of Designations, Preferences and Rights of the Special Voting Preferred Stock of Royal Gold,\\xa0Inc. (filed as Exhibit\\xa04.1 to Royal Gold’s Current Report on Form\\xa08-K on February\\xa023, 2010, and incorporated herein by reference)', 'type': 'NarrativeText'}]\n",
            "---------------\n",
            "FORM_SUMMARY\n",
            "[{'text': 'Registrants may voluntarily include a summary of information required by Form 10-K under this Item 16. We have elected not to include this summary information.', 'type': 'NarrativeText'}]\n",
            "---------------\n"
          ]
        }
      ],
      "source": [
        "all_narratives = pipeline_api(text, [\"_ALL\"])\n",
        "for section, elems in all_narratives.items():\n",
        "    print(section)\n",
        "    print(elems[:4])\n",
        "    print(\"---------------\")"
      ]
    }
  ],
  "metadata": {
    "colab": {
      "provenance": [],
      "include_colab_link": true
    },
    "kernelspec": {
      "display_name": "Python 3",
      "name": "python3"
    },
    "language_info": {
      "name": "python"
    }
  },
  "nbformat": 4,
  "nbformat_minor": 0
}